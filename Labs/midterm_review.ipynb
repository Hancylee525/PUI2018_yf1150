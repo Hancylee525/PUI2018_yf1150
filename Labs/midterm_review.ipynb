{
 "cells": [
  {
   "cell_type": "code",
   "execution_count": 2,
   "metadata": {},
   "outputs": [
    {
     "name": "stdout",
     "output_type": "stream",
     "text": [
      "Populating the interactive namespace from numpy and matplotlib\n"
     ]
    }
   ],
   "source": [
    "import geopandas as gpd\n",
    "import pandas as pd\n",
    "import numpy as np\n",
    "import urllib\n",
    "import requests\n",
    "import os\n",
    "import io\n",
    "import json\n",
    "import pylab as pl\n",
    "import shapely\n",
    "from fiona.crs import from_epsg\n",
    "import glob\n",
    "\n",
    "%pylab inline"
   ]
  },
  {
   "cell_type": "code",
   "execution_count": 2,
   "metadata": {},
   "outputs": [
    {
     "data": {
      "text/plain": [
       "'/nfshome/yf1150/PUIdata'"
      ]
     },
     "execution_count": 2,
     "metadata": {},
     "output_type": "execute_result"
    }
   ],
   "source": [
    "os.getenv(\"PUIDATA\")"
   ]
  },
  {
   "cell_type": "markdown",
   "metadata": {},
   "source": [
    "## getting the census shapefile"
   ]
  },
  {
   "cell_type": "code",
   "execution_count": 13,
   "metadata": {
    "scrolled": true
   },
   "outputs": [
    {
     "name": "stdout",
     "output_type": "stream",
     "text": [
      "Archive:  file.gz\n",
      "  inflating: /nfshome/yf1150/PUIdata/geo_export_f281aa0f-9c2e-4ab6-bfd0-2138aa35da8c.dbf  \n",
      "  inflating: /nfshome/yf1150/PUIdata/geo_export_f281aa0f-9c2e-4ab6-bfd0-2138aa35da8c.shp  \n",
      "  inflating: /nfshome/yf1150/PUIdata/geo_export_f281aa0f-9c2e-4ab6-bfd0-2138aa35da8c.shx  \n",
      "  inflating: /nfshome/yf1150/PUIdata/geo_export_f281aa0f-9c2e-4ab6-bfd0-2138aa35da8c.prj  \n"
     ]
    }
   ],
   "source": [
    "# cannot directly curl because not static url page, request method will work because... \n",
    "url = \"https://data.cityofnewyork.us/api/geospatial/fxpq-c8ku?method=export&format=Shapefile\"\n",
    "urllib.request.urlretrieve(url, \"file.gz\")\n",
    "!unzip -d $PUIDATA file.gz"
   ]
  },
  {
   "cell_type": "code",
   "execution_count": 14,
   "metadata": {},
   "outputs": [],
   "source": [
    "ct = gpd.GeoDataFrame.from_file(os.getenv(\"PUIDATA\") + \"/\" + \n",
    "                                     \"geo_export_f281aa0f-9c2e-4ab6-bfd0-2138aa35da8c.shp\")"
   ]
  },
  {
   "cell_type": "code",
   "execution_count": 15,
   "metadata": {},
   "outputs": [
    {
     "data": {
      "text/html": [
       "<div>\n",
       "<table border=\"1\" class=\"dataframe\">\n",
       "  <thead>\n",
       "    <tr style=\"text-align: right;\">\n",
       "      <th></th>\n",
       "      <th>boro_code</th>\n",
       "      <th>boro_ct201</th>\n",
       "      <th>boro_name</th>\n",
       "      <th>cdeligibil</th>\n",
       "      <th>ct2010</th>\n",
       "      <th>ctlabel</th>\n",
       "      <th>ntacode</th>\n",
       "      <th>ntaname</th>\n",
       "      <th>puma</th>\n",
       "      <th>shape_area</th>\n",
       "      <th>shape_leng</th>\n",
       "      <th>geometry</th>\n",
       "    </tr>\n",
       "  </thead>\n",
       "  <tbody>\n",
       "    <tr>\n",
       "      <th>0</th>\n",
       "      <td>5</td>\n",
       "      <td>5000900</td>\n",
       "      <td>Staten Island</td>\n",
       "      <td>I</td>\n",
       "      <td>000900</td>\n",
       "      <td>9</td>\n",
       "      <td>SI22</td>\n",
       "      <td>West New Brighton-New Brighton-St. George</td>\n",
       "      <td>3903</td>\n",
       "      <td>2.497010e+06</td>\n",
       "      <td>7729.016794</td>\n",
       "      <td>POLYGON ((-74.07920577013245 40.64343078374567...</td>\n",
       "    </tr>\n",
       "    <tr>\n",
       "      <th>1</th>\n",
       "      <td>1</td>\n",
       "      <td>1009800</td>\n",
       "      <td>Manhattan</td>\n",
       "      <td>I</td>\n",
       "      <td>009800</td>\n",
       "      <td>98</td>\n",
       "      <td>MN19</td>\n",
       "      <td>Turtle Bay-East Midtown</td>\n",
       "      <td>3808</td>\n",
       "      <td>1.906016e+06</td>\n",
       "      <td>5534.199811</td>\n",
       "      <td>POLYGON ((-73.96432543478758 40.75638153099091...</td>\n",
       "    </tr>\n",
       "    <tr>\n",
       "      <th>2</th>\n",
       "      <td>1</td>\n",
       "      <td>1010000</td>\n",
       "      <td>Manhattan</td>\n",
       "      <td>I</td>\n",
       "      <td>010000</td>\n",
       "      <td>100</td>\n",
       "      <td>MN19</td>\n",
       "      <td>Turtle Bay-East Midtown</td>\n",
       "      <td>3808</td>\n",
       "      <td>1.860938e+06</td>\n",
       "      <td>5692.168737</td>\n",
       "      <td>POLYGON ((-73.96802436915851 40.75957814005282...</td>\n",
       "    </tr>\n",
       "    <tr>\n",
       "      <th>3</th>\n",
       "      <td>1</td>\n",
       "      <td>1010200</td>\n",
       "      <td>Manhattan</td>\n",
       "      <td>I</td>\n",
       "      <td>010200</td>\n",
       "      <td>102</td>\n",
       "      <td>MN17</td>\n",
       "      <td>Midtown-Midtown South</td>\n",
       "      <td>3807</td>\n",
       "      <td>1.860993e+06</td>\n",
       "      <td>5687.802439</td>\n",
       "      <td>POLYGON ((-73.97124277307127 40.76093641847906...</td>\n",
       "    </tr>\n",
       "    <tr>\n",
       "      <th>4</th>\n",
       "      <td>1</td>\n",
       "      <td>1010400</td>\n",
       "      <td>Manhattan</td>\n",
       "      <td>I</td>\n",
       "      <td>010400</td>\n",
       "      <td>104</td>\n",
       "      <td>MN17</td>\n",
       "      <td>Midtown-Midtown South</td>\n",
       "      <td>3807</td>\n",
       "      <td>1.864600e+06</td>\n",
       "      <td>5693.036367</td>\n",
       "      <td>POLYGON ((-73.97445730550224 40.76229308352487...</td>\n",
       "    </tr>\n",
       "  </tbody>\n",
       "</table>\n",
       "</div>"
      ],
      "text/plain": [
       "  boro_code boro_ct201      boro_name cdeligibil  ct2010 ctlabel ntacode  \\\n",
       "0         5    5000900  Staten Island          I  000900       9    SI22   \n",
       "1         1    1009800      Manhattan          I  009800      98    MN19   \n",
       "2         1    1010000      Manhattan          I  010000     100    MN19   \n",
       "3         1    1010200      Manhattan          I  010200     102    MN17   \n",
       "4         1    1010400      Manhattan          I  010400     104    MN17   \n",
       "\n",
       "                                     ntaname  puma    shape_area   shape_leng  \\\n",
       "0  West New Brighton-New Brighton-St. George  3903  2.497010e+06  7729.016794   \n",
       "1                    Turtle Bay-East Midtown  3808  1.906016e+06  5534.199811   \n",
       "2                    Turtle Bay-East Midtown  3808  1.860938e+06  5692.168737   \n",
       "3                      Midtown-Midtown South  3807  1.860993e+06  5687.802439   \n",
       "4                      Midtown-Midtown South  3807  1.864600e+06  5693.036367   \n",
       "\n",
       "                                            geometry  \n",
       "0  POLYGON ((-74.07920577013245 40.64343078374567...  \n",
       "1  POLYGON ((-73.96432543478758 40.75638153099091...  \n",
       "2  POLYGON ((-73.96802436915851 40.75957814005282...  \n",
       "3  POLYGON ((-73.97124277307127 40.76093641847906...  \n",
       "4  POLYGON ((-73.97445730550224 40.76229308352487...  "
      ]
     },
     "execution_count": 15,
     "metadata": {},
     "output_type": "execute_result"
    }
   ],
   "source": [
    "ct.head()"
   ]
  },
  {
   "cell_type": "code",
   "execution_count": 16,
   "metadata": {
    "scrolled": true
   },
   "outputs": [],
   "source": [
    "man = ct[ct[\"boro_name\"] == \"Manhattan\"]"
   ]
  },
  {
   "cell_type": "code",
   "execution_count": 17,
   "metadata": {},
   "outputs": [
    {
     "data": {
      "image/png": "[encoded data removed]",
      "text/plain": [
       "<matplotlib.figure.Figure at 0x7ff8c8154b38>"
      ]
     },
     "metadata": {},
     "output_type": "display_data"
    }
   ],
   "source": [
    "ax = man.plot()\n",
    "man.plot(edgecolor = \"r\", ax = ax, alpha=0.5)\n",
    "#set the axis differently\n",
    "ax.axes.set_aspect('equal','datalim')"
   ]
  },
  {
   "cell_type": "code",
   "execution_count": 18,
   "metadata": {},
   "outputs": [
    {
     "data": {
      "text/plain": [
       "{'init': 'epsg:4326'}"
      ]
     },
     "execution_count": 18,
     "metadata": {},
     "output_type": "execute_result"
    }
   ],
   "source": [
    "man.crs"
   ]
  },
  {
   "cell_type": "code",
   "execution_count": 20,
   "metadata": {},
   "outputs": [],
   "source": [
    "man_2263 = man.to_crs(epsg=2263)"
   ]
  },
  {
   "cell_type": "code",
   "execution_count": 21,
   "metadata": {},
   "outputs": [
    {
     "data": {
      "text/plain": [
       "<matplotlib.axes._subplots.AxesSubplot at 0x7ff8c82b7358>"
      ]
     },
     "execution_count": 21,
     "metadata": {},
     "output_type": "execute_result"
    },
    {
     "data": {
      "image/png": "[encoded data removed]",
      "text/plain": [
       "<matplotlib.figure.Figure at 0x7ff8c82a49b0>"
      ]
     },
     "metadata": {},
     "output_type": "display_data"
    }
   ],
   "source": [
    "man_2263.plot()\n",
    "# you get a different projection"
   ]
  },
  {
   "cell_type": "markdown",
   "metadata": {},
   "source": [
    "## Get some Citi Bike data"
   ]
  },
  {
   "cell_type": "code",
   "execution_count": null,
   "metadata": {},
   "outputs": [],
   "source": [
    "datastring01 = \n",
    "getCitiBikeCSV(datastring01)"
   ]
  },
  {
   "cell_type": "code",
   "execution_count": 3,
   "metadata": {},
   "outputs": [],
   "source": [
    "ct201501 = pd.read_csv('201501-citibike-tripdata.csv')"
   ]
  },
  {
   "cell_type": "code",
   "execution_count": 4,
   "metadata": {},
   "outputs": [
    {
     "data": {
      "text/html": [
       "<div>\n",
       "<table border=\"1\" class=\"dataframe\">\n",
       "  <thead>\n",
       "    <tr style=\"text-align: right;\">\n",
       "      <th></th>\n",
       "      <th>tripduration</th>\n",
       "      <th>starttime</th>\n",
       "      <th>stoptime</th>\n",
       "      <th>start station id</th>\n",
       "      <th>start station name</th>\n",
       "      <th>start station latitude</th>\n",
       "      <th>start station longitude</th>\n",
       "      <th>end station id</th>\n",
       "      <th>end station name</th>\n",
       "      <th>end station latitude</th>\n",
       "      <th>end station longitude</th>\n",
       "      <th>bikeid</th>\n",
       "      <th>usertype</th>\n",
       "      <th>birth year</th>\n",
       "      <th>gender</th>\n",
       "    </tr>\n",
       "  </thead>\n",
       "  <tbody>\n",
       "    <tr>\n",
       "      <th>0</th>\n",
       "      <td>1346</td>\n",
       "      <td>1/1/2015 0:01</td>\n",
       "      <td>1/1/2015 0:24</td>\n",
       "      <td>455</td>\n",
       "      <td>1 Ave &amp; E 44 St</td>\n",
       "      <td>40.750020</td>\n",
       "      <td>-73.969053</td>\n",
       "      <td>265</td>\n",
       "      <td>Stanton St &amp; Chrystie St</td>\n",
       "      <td>40.722293</td>\n",
       "      <td>-73.991475</td>\n",
       "      <td>18660</td>\n",
       "      <td>Subscriber</td>\n",
       "      <td>1960.0</td>\n",
       "      <td>2</td>\n",
       "    </tr>\n",
       "    <tr>\n",
       "      <th>1</th>\n",
       "      <td>363</td>\n",
       "      <td>1/1/2015 0:02</td>\n",
       "      <td>1/1/2015 0:08</td>\n",
       "      <td>434</td>\n",
       "      <td>9 Ave &amp; W 18 St</td>\n",
       "      <td>40.743174</td>\n",
       "      <td>-74.003664</td>\n",
       "      <td>482</td>\n",
       "      <td>W 15 St &amp; 7 Ave</td>\n",
       "      <td>40.739355</td>\n",
       "      <td>-73.999318</td>\n",
       "      <td>16085</td>\n",
       "      <td>Subscriber</td>\n",
       "      <td>1963.0</td>\n",
       "      <td>1</td>\n",
       "    </tr>\n",
       "    <tr>\n",
       "      <th>2</th>\n",
       "      <td>346</td>\n",
       "      <td>1/1/2015 0:04</td>\n",
       "      <td>1/1/2015 0:10</td>\n",
       "      <td>491</td>\n",
       "      <td>E 24 St &amp; Park Ave S</td>\n",
       "      <td>40.740964</td>\n",
       "      <td>-73.986022</td>\n",
       "      <td>505</td>\n",
       "      <td>6 Ave &amp; W 33 St</td>\n",
       "      <td>40.749013</td>\n",
       "      <td>-73.988484</td>\n",
       "      <td>20845</td>\n",
       "      <td>Subscriber</td>\n",
       "      <td>1974.0</td>\n",
       "      <td>1</td>\n",
       "    </tr>\n",
       "    <tr>\n",
       "      <th>3</th>\n",
       "      <td>182</td>\n",
       "      <td>1/1/2015 0:04</td>\n",
       "      <td>1/1/2015 0:07</td>\n",
       "      <td>384</td>\n",
       "      <td>Fulton St &amp; Waverly Ave</td>\n",
       "      <td>40.683178</td>\n",
       "      <td>-73.965964</td>\n",
       "      <td>399</td>\n",
       "      <td>Lafayette Ave &amp; St James Pl</td>\n",
       "      <td>40.688515</td>\n",
       "      <td>-73.964763</td>\n",
       "      <td>19610</td>\n",
       "      <td>Subscriber</td>\n",
       "      <td>1969.0</td>\n",
       "      <td>1</td>\n",
       "    </tr>\n",
       "    <tr>\n",
       "      <th>4</th>\n",
       "      <td>969</td>\n",
       "      <td>1/1/2015 0:05</td>\n",
       "      <td>1/1/2015 0:21</td>\n",
       "      <td>474</td>\n",
       "      <td>5 Ave &amp; E 29 St</td>\n",
       "      <td>40.745168</td>\n",
       "      <td>-73.986831</td>\n",
       "      <td>432</td>\n",
       "      <td>E 7 St &amp; Avenue A</td>\n",
       "      <td>40.726218</td>\n",
       "      <td>-73.983799</td>\n",
       "      <td>20197</td>\n",
       "      <td>Subscriber</td>\n",
       "      <td>1977.0</td>\n",
       "      <td>1</td>\n",
       "    </tr>\n",
       "  </tbody>\n",
       "</table>\n",
       "</div>"
      ],
      "text/plain": [
       "   tripduration      starttime       stoptime  start station id  \\\n",
       "0          1346  1/1/2015 0:01  1/1/2015 0:24               455   \n",
       "1           363  1/1/2015 0:02  1/1/2015 0:08               434   \n",
       "2           346  1/1/2015 0:04  1/1/2015 0:10               491   \n",
       "3           182  1/1/2015 0:04  1/1/2015 0:07               384   \n",
       "4           969  1/1/2015 0:05  1/1/2015 0:21               474   \n",
       "\n",
       "        start station name  start station latitude  start station longitude  \\\n",
       "0          1 Ave & E 44 St               40.750020               -73.969053   \n",
       "1          9 Ave & W 18 St               40.743174               -74.003664   \n",
       "2     E 24 St & Park Ave S               40.740964               -73.986022   \n",
       "3  Fulton St & Waverly Ave               40.683178               -73.965964   \n",
       "4          5 Ave & E 29 St               40.745168               -73.986831   \n",
       "\n",
       "   end station id             end station name  end station latitude  \\\n",
       "0             265     Stanton St & Chrystie St             40.722293   \n",
       "1             482              W 15 St & 7 Ave             40.739355   \n",
       "2             505              6 Ave & W 33 St             40.749013   \n",
       "3             399  Lafayette Ave & St James Pl             40.688515   \n",
       "4             432            E 7 St & Avenue A             40.726218   \n",
       "\n",
       "   end station longitude  bikeid    usertype  birth year  gender  \n",
       "0             -73.991475   18660  Subscriber      1960.0       2  \n",
       "1             -73.999318   16085  Subscriber      1963.0       1  \n",
       "2             -73.988484   20845  Subscriber      1974.0       1  \n",
       "3             -73.964763   19610  Subscriber      1969.0       1  \n",
       "4             -73.983799   20197  Subscriber      1977.0       1  "
      ]
     },
     "execution_count": 4,
     "metadata": {},
     "output_type": "execute_result"
    }
   ],
   "source": [
    "ct201501.head()"
   ]
  },
  {
   "cell_type": "code",
   "execution_count": 7,
   "metadata": {},
   "outputs": [],
   "source": [
    "# only get the 1000 data\n",
    "cb = ct201501[::1000]"
   ]
  },
  {
   "cell_type": "code",
   "execution_count": 8,
   "metadata": {},
   "outputs": [
    {
     "data": {
      "text/html": [
       "<div>\n",
       "<table border=\"1\" class=\"dataframe\">\n",
       "  <thead>\n",
       "    <tr style=\"text-align: right;\">\n",
       "      <th></th>\n",
       "      <th>tripduration</th>\n",
       "      <th>starttime</th>\n",
       "      <th>stoptime</th>\n",
       "      <th>start station id</th>\n",
       "      <th>start station name</th>\n",
       "      <th>start station latitude</th>\n",
       "      <th>start station longitude</th>\n",
       "      <th>end station id</th>\n",
       "      <th>end station name</th>\n",
       "      <th>end station latitude</th>\n",
       "      <th>end station longitude</th>\n",
       "      <th>bikeid</th>\n",
       "      <th>usertype</th>\n",
       "      <th>birth year</th>\n",
       "      <th>gender</th>\n",
       "    </tr>\n",
       "  </thead>\n",
       "  <tbody>\n",
       "    <tr>\n",
       "      <th>0</th>\n",
       "      <td>1346</td>\n",
       "      <td>1/1/2015 0:01</td>\n",
       "      <td>1/1/2015 0:24</td>\n",
       "      <td>455</td>\n",
       "      <td>1 Ave &amp; E 44 St</td>\n",
       "      <td>40.750020</td>\n",
       "      <td>-73.969053</td>\n",
       "      <td>265</td>\n",
       "      <td>Stanton St &amp; Chrystie St</td>\n",
       "      <td>40.722293</td>\n",
       "      <td>-73.991475</td>\n",
       "      <td>18660</td>\n",
       "      <td>Subscriber</td>\n",
       "      <td>1960.0</td>\n",
       "      <td>2</td>\n",
       "    </tr>\n",
       "    <tr>\n",
       "      <th>1000</th>\n",
       "      <td>581</td>\n",
       "      <td>1/1/2015 10:46</td>\n",
       "      <td>1/1/2015 10:56</td>\n",
       "      <td>466</td>\n",
       "      <td>W 25 St &amp; 6 Ave</td>\n",
       "      <td>40.743954</td>\n",
       "      <td>-73.991449</td>\n",
       "      <td>375</td>\n",
       "      <td>Mercer St &amp; Bleecker St</td>\n",
       "      <td>40.726795</td>\n",
       "      <td>-73.996951</td>\n",
       "      <td>15552</td>\n",
       "      <td>Subscriber</td>\n",
       "      <td>1984.0</td>\n",
       "      <td>1</td>\n",
       "    </tr>\n",
       "    <tr>\n",
       "      <th>2000</th>\n",
       "      <td>727</td>\n",
       "      <td>1/1/2015 13:39</td>\n",
       "      <td>1/1/2015 13:51</td>\n",
       "      <td>312</td>\n",
       "      <td>Allen St &amp; E Houston St</td>\n",
       "      <td>40.722055</td>\n",
       "      <td>-73.989111</td>\n",
       "      <td>428</td>\n",
       "      <td>E 3 St &amp; 1 Ave</td>\n",
       "      <td>40.724677</td>\n",
       "      <td>-73.987834</td>\n",
       "      <td>20781</td>\n",
       "      <td>Subscriber</td>\n",
       "      <td>1964.0</td>\n",
       "      <td>1</td>\n",
       "    </tr>\n",
       "    <tr>\n",
       "      <th>3000</th>\n",
       "      <td>490</td>\n",
       "      <td>1/1/2015 15:48</td>\n",
       "      <td>1/1/2015 15:56</td>\n",
       "      <td>483</td>\n",
       "      <td>E 12 St &amp; 3 Ave</td>\n",
       "      <td>40.732233</td>\n",
       "      <td>-73.988900</td>\n",
       "      <td>482</td>\n",
       "      <td>W 15 St &amp; 7 Ave</td>\n",
       "      <td>40.739355</td>\n",
       "      <td>-73.999318</td>\n",
       "      <td>17606</td>\n",
       "      <td>Subscriber</td>\n",
       "      <td>1990.0</td>\n",
       "      <td>1</td>\n",
       "    </tr>\n",
       "    <tr>\n",
       "      <th>4000</th>\n",
       "      <td>182</td>\n",
       "      <td>1/1/2015 17:51</td>\n",
       "      <td>1/1/2015 17:54</td>\n",
       "      <td>297</td>\n",
       "      <td>E 15 St &amp; 3 Ave</td>\n",
       "      <td>40.734232</td>\n",
       "      <td>-73.986923</td>\n",
       "      <td>2003</td>\n",
       "      <td>1 Ave &amp; E 18 St</td>\n",
       "      <td>40.734161</td>\n",
       "      <td>-73.980243</td>\n",
       "      <td>18978</td>\n",
       "      <td>Subscriber</td>\n",
       "      <td>1967.0</td>\n",
       "      <td>1</td>\n",
       "    </tr>\n",
       "  </tbody>\n",
       "</table>\n",
       "</div>"
      ],
      "text/plain": [
       "      tripduration       starttime        stoptime  start station id  \\\n",
       "0             1346   1/1/2015 0:01   1/1/2015 0:24               455   \n",
       "1000           581  1/1/2015 10:46  1/1/2015 10:56               466   \n",
       "2000           727  1/1/2015 13:39  1/1/2015 13:51               312   \n",
       "3000           490  1/1/2015 15:48  1/1/2015 15:56               483   \n",
       "4000           182  1/1/2015 17:51  1/1/2015 17:54               297   \n",
       "\n",
       "           start station name  start station latitude  \\\n",
       "0             1 Ave & E 44 St               40.750020   \n",
       "1000          W 25 St & 6 Ave               40.743954   \n",
       "2000  Allen St & E Houston St               40.722055   \n",
       "3000          E 12 St & 3 Ave               40.732233   \n",
       "4000          E 15 St & 3 Ave               40.734232   \n",
       "\n",
       "      start station longitude  end station id          end station name  \\\n",
       "0                  -73.969053             265  Stanton St & Chrystie St   \n",
       "1000               -73.991449             375   Mercer St & Bleecker St   \n",
       "2000               -73.989111             428            E 3 St & 1 Ave   \n",
       "3000               -73.988900             482           W 15 St & 7 Ave   \n",
       "4000               -73.986923            2003           1 Ave & E 18 St   \n",
       "\n",
       "      end station latitude  end station longitude  bikeid    usertype  \\\n",
       "0                40.722293             -73.991475   18660  Subscriber   \n",
       "1000             40.726795             -73.996951   15552  Subscriber   \n",
       "2000             40.724677             -73.987834   20781  Subscriber   \n",
       "3000             40.739355             -73.999318   17606  Subscriber   \n",
       "4000             40.734161             -73.980243   18978  Subscriber   \n",
       "\n",
       "      birth year  gender  \n",
       "0         1960.0       2  \n",
       "1000      1984.0       1  \n",
       "2000      1964.0       1  \n",
       "3000      1990.0       1  \n",
       "4000      1967.0       1  "
      ]
     },
     "execution_count": 8,
     "metadata": {},
     "output_type": "execute_result"
    }
   ],
   "source": [
    "cb.head()"
   ]
  },
  {
   "cell_type": "code",
   "execution_count": 9,
   "metadata": {},
   "outputs": [
    {
     "data": {
      "text/html": [
       "<div>\n",
       "<table border=\"1\" class=\"dataframe\">\n",
       "  <thead>\n",
       "    <tr style=\"text-align: right;\">\n",
       "      <th></th>\n",
       "      <th>start station longitude</th>\n",
       "      <th>start station latitude</th>\n",
       "    </tr>\n",
       "  </thead>\n",
       "  <tbody>\n",
       "    <tr>\n",
       "      <th>0</th>\n",
       "      <td>-73.969053</td>\n",
       "      <td>40.750020</td>\n",
       "    </tr>\n",
       "    <tr>\n",
       "      <th>1000</th>\n",
       "      <td>-73.991449</td>\n",
       "      <td>40.743954</td>\n",
       "    </tr>\n",
       "    <tr>\n",
       "      <th>2000</th>\n",
       "      <td>-73.989111</td>\n",
       "      <td>40.722055</td>\n",
       "    </tr>\n",
       "    <tr>\n",
       "      <th>3000</th>\n",
       "      <td>-73.988900</td>\n",
       "      <td>40.732233</td>\n",
       "    </tr>\n",
       "    <tr>\n",
       "      <th>4000</th>\n",
       "      <td>-73.986923</td>\n",
       "      <td>40.734232</td>\n",
       "    </tr>\n",
       "    <tr>\n",
       "      <th>5000</th>\n",
       "      <td>-74.000271</td>\n",
       "      <td>40.735238</td>\n",
       "    </tr>\n",
       "    <tr>\n",
       "      <th>6000</th>\n",
       "      <td>-73.981632</td>\n",
       "      <td>40.752062</td>\n",
       "    </tr>\n",
       "    <tr>\n",
       "      <th>7000</th>\n",
       "      <td>-73.987882</td>\n",
       "      <td>40.762272</td>\n",
       "    </tr>\n",
       "    <tr>\n",
       "      <th>8000</th>\n",
       "      <td>-74.008592</td>\n",
       "      <td>40.736197</td>\n",
       "    </tr>\n",
       "    <tr>\n",
       "      <th>9000</th>\n",
       "      <td>-73.983209</td>\n",
       "      <td>40.741473</td>\n",
       "    </tr>\n",
       "    <tr>\n",
       "      <th>10000</th>\n",
       "      <td>-74.001670</td>\n",
       "      <td>40.707873</td>\n",
       "    </tr>\n",
       "    <tr>\n",
       "      <th>11000</th>\n",
       "      <td>-73.994618</td>\n",
       "      <td>40.760094</td>\n",
       "    </tr>\n",
       "    <tr>\n",
       "      <th>12000</th>\n",
       "      <td>-73.990539</td>\n",
       "      <td>40.693830</td>\n",
       "    </tr>\n",
       "    <tr>\n",
       "      <th>13000</th>\n",
       "      <td>-73.987535</td>\n",
       "      <td>40.751726</td>\n",
       "    </tr>\n",
       "    <tr>\n",
       "      <th>14000</th>\n",
       "      <td>-74.002971</td>\n",
       "      <td>40.727103</td>\n",
       "    </tr>\n",
       "    <tr>\n",
       "      <th>15000</th>\n",
       "      <td>-73.989978</td>\n",
       "      <td>40.720196</td>\n",
       "    </tr>\n",
       "    <tr>\n",
       "      <th>16000</th>\n",
       "      <td>-73.985180</td>\n",
       "      <td>40.720664</td>\n",
       "    </tr>\n",
       "    <tr>\n",
       "      <th>17000</th>\n",
       "      <td>-74.005664</td>\n",
       "      <td>40.722438</td>\n",
       "    </tr>\n",
       "    <tr>\n",
       "      <th>18000</th>\n",
       "      <td>-73.967416</td>\n",
       "      <td>40.756014</td>\n",
       "    </tr>\n",
       "    <tr>\n",
       "      <th>19000</th>\n",
       "      <td>-74.002950</td>\n",
       "      <td>40.749718</td>\n",
       "    </tr>\n",
       "    <tr>\n",
       "      <th>20000</th>\n",
       "      <td>-73.977987</td>\n",
       "      <td>40.753202</td>\n",
       "    </tr>\n",
       "    <tr>\n",
       "      <th>21000</th>\n",
       "      <td>-74.003664</td>\n",
       "      <td>40.743174</td>\n",
       "    </tr>\n",
       "    <tr>\n",
       "      <th>22000</th>\n",
       "      <td>-74.004831</td>\n",
       "      <td>40.735354</td>\n",
       "    </tr>\n",
       "    <tr>\n",
       "      <th>23000</th>\n",
       "      <td>-73.983625</td>\n",
       "      <td>40.694749</td>\n",
       "    </tr>\n",
       "    <tr>\n",
       "      <th>24000</th>\n",
       "      <td>-73.983799</td>\n",
       "      <td>40.726218</td>\n",
       "    </tr>\n",
       "    <tr>\n",
       "      <th>25000</th>\n",
       "      <td>-73.987834</td>\n",
       "      <td>40.724677</td>\n",
       "    </tr>\n",
       "    <tr>\n",
       "      <th>26000</th>\n",
       "      <td>-74.005549</td>\n",
       "      <td>40.717571</td>\n",
       "    </tr>\n",
       "    <tr>\n",
       "      <th>27000</th>\n",
       "      <td>-74.011220</td>\n",
       "      <td>40.715422</td>\n",
       "    </tr>\n",
       "    <tr>\n",
       "      <th>28000</th>\n",
       "      <td>-74.000264</td>\n",
       "      <td>40.732241</td>\n",
       "    </tr>\n",
       "    <tr>\n",
       "      <th>29000</th>\n",
       "      <td>-73.986022</td>\n",
       "      <td>40.740964</td>\n",
       "    </tr>\n",
       "    <tr>\n",
       "      <th>...</th>\n",
       "      <td>...</td>\n",
       "      <td>...</td>\n",
       "    </tr>\n",
       "    <tr>\n",
       "      <th>256000</th>\n",
       "      <td>-74.001768</td>\n",
       "      <td>40.750664</td>\n",
       "    </tr>\n",
       "    <tr>\n",
       "      <th>257000</th>\n",
       "      <td>-74.010434</td>\n",
       "      <td>40.709056</td>\n",
       "    </tr>\n",
       "    <tr>\n",
       "      <th>258000</th>\n",
       "      <td>-73.986580</td>\n",
       "      <td>40.755136</td>\n",
       "    </tr>\n",
       "    <tr>\n",
       "      <th>259000</th>\n",
       "      <td>-74.005628</td>\n",
       "      <td>40.714505</td>\n",
       "    </tr>\n",
       "    <tr>\n",
       "      <th>260000</th>\n",
       "      <td>-73.991600</td>\n",
       "      <td>40.749156</td>\n",
       "    </tr>\n",
       "    <tr>\n",
       "      <th>261000</th>\n",
       "      <td>-73.981693</td>\n",
       "      <td>40.766953</td>\n",
       "    </tr>\n",
       "    <tr>\n",
       "      <th>262000</th>\n",
       "      <td>-73.986580</td>\n",
       "      <td>40.755136</td>\n",
       "    </tr>\n",
       "    <tr>\n",
       "      <th>263000</th>\n",
       "      <td>-73.998393</td>\n",
       "      <td>40.750073</td>\n",
       "    </tr>\n",
       "    <tr>\n",
       "      <th>264000</th>\n",
       "      <td>-74.008030</td>\n",
       "      <td>40.741951</td>\n",
       "    </tr>\n",
       "    <tr>\n",
       "      <th>265000</th>\n",
       "      <td>-73.989151</td>\n",
       "      <td>40.742354</td>\n",
       "    </tr>\n",
       "    <tr>\n",
       "      <th>266000</th>\n",
       "      <td>-73.991255</td>\n",
       "      <td>40.760193</td>\n",
       "    </tr>\n",
       "    <tr>\n",
       "      <th>267000</th>\n",
       "      <td>-73.993379</td>\n",
       "      <td>40.692395</td>\n",
       "    </tr>\n",
       "    <tr>\n",
       "      <th>268000</th>\n",
       "      <td>-73.980144</td>\n",
       "      <td>40.755003</td>\n",
       "    </tr>\n",
       "    <tr>\n",
       "      <th>269000</th>\n",
       "      <td>-73.977724</td>\n",
       "      <td>40.729387</td>\n",
       "    </tr>\n",
       "    <tr>\n",
       "      <th>270000</th>\n",
       "      <td>-73.990617</td>\n",
       "      <td>40.766697</td>\n",
       "    </tr>\n",
       "    <tr>\n",
       "      <th>271000</th>\n",
       "      <td>-74.010434</td>\n",
       "      <td>40.709056</td>\n",
       "    </tr>\n",
       "    <tr>\n",
       "      <th>272000</th>\n",
       "      <td>-73.991382</td>\n",
       "      <td>40.754666</td>\n",
       "    </tr>\n",
       "    <tr>\n",
       "      <th>273000</th>\n",
       "      <td>-73.993379</td>\n",
       "      <td>40.692395</td>\n",
       "    </tr>\n",
       "    <tr>\n",
       "      <th>274000</th>\n",
       "      <td>-73.965930</td>\n",
       "      <td>40.754557</td>\n",
       "    </tr>\n",
       "    <tr>\n",
       "      <th>275000</th>\n",
       "      <td>-73.988557</td>\n",
       "      <td>40.746201</td>\n",
       "    </tr>\n",
       "    <tr>\n",
       "      <th>276000</th>\n",
       "      <td>-73.989129</td>\n",
       "      <td>40.689269</td>\n",
       "    </tr>\n",
       "    <tr>\n",
       "      <th>277000</th>\n",
       "      <td>-73.992663</td>\n",
       "      <td>40.718939</td>\n",
       "    </tr>\n",
       "    <tr>\n",
       "      <th>278000</th>\n",
       "      <td>-73.981632</td>\n",
       "      <td>40.752062</td>\n",
       "    </tr>\n",
       "    <tr>\n",
       "      <th>279000</th>\n",
       "      <td>-74.001971</td>\n",
       "      <td>40.745497</td>\n",
       "    </tr>\n",
       "    <tr>\n",
       "      <th>280000</th>\n",
       "      <td>-73.964785</td>\n",
       "      <td>40.760203</td>\n",
       "    </tr>\n",
       "    <tr>\n",
       "      <th>281000</th>\n",
       "      <td>-74.002150</td>\n",
       "      <td>40.730386</td>\n",
       "    </tr>\n",
       "    <tr>\n",
       "      <th>282000</th>\n",
       "      <td>-74.000271</td>\n",
       "      <td>40.735238</td>\n",
       "    </tr>\n",
       "    <tr>\n",
       "      <th>283000</th>\n",
       "      <td>-73.979738</td>\n",
       "      <td>40.739126</td>\n",
       "    </tr>\n",
       "    <tr>\n",
       "      <th>284000</th>\n",
       "      <td>-73.989551</td>\n",
       "      <td>40.740343</td>\n",
       "    </tr>\n",
       "    <tr>\n",
       "      <th>285000</th>\n",
       "      <td>-73.988484</td>\n",
       "      <td>40.749013</td>\n",
       "    </tr>\n",
       "  </tbody>\n",
       "</table>\n",
       "<p>286 rows × 2 columns</p>\n",
       "</div>"
      ],
      "text/plain": [
       "        start station longitude  start station latitude\n",
       "0                    -73.969053               40.750020\n",
       "1000                 -73.991449               40.743954\n",
       "2000                 -73.989111               40.722055\n",
       "3000                 -73.988900               40.732233\n",
       "4000                 -73.986923               40.734232\n",
       "5000                 -74.000271               40.735238\n",
       "6000                 -73.981632               40.752062\n",
       "7000                 -73.987882               40.762272\n",
       "8000                 -74.008592               40.736197\n",
       "9000                 -73.983209               40.741473\n",
       "10000                -74.001670               40.707873\n",
       "11000                -73.994618               40.760094\n",
       "12000                -73.990539               40.693830\n",
       "13000                -73.987535               40.751726\n",
       "14000                -74.002971               40.727103\n",
       "15000                -73.989978               40.720196\n",
       "16000                -73.985180               40.720664\n",
       "17000                -74.005664               40.722438\n",
       "18000                -73.967416               40.756014\n",
       "19000                -74.002950               40.749718\n",
       "20000                -73.977987               40.753202\n",
       "21000                -74.003664               40.743174\n",
       "22000                -74.004831               40.735354\n",
       "23000                -73.983625               40.694749\n",
       "24000                -73.983799               40.726218\n",
       "25000                -73.987834               40.724677\n",
       "26000                -74.005549               40.717571\n",
       "27000                -74.011220               40.715422\n",
       "28000                -74.000264               40.732241\n",
       "29000                -73.986022               40.740964\n",
       "...                         ...                     ...\n",
       "256000               -74.001768               40.750664\n",
       "257000               -74.010434               40.709056\n",
       "258000               -73.986580               40.755136\n",
       "259000               -74.005628               40.714505\n",
       "260000               -73.991600               40.749156\n",
       "261000               -73.981693               40.766953\n",
       "262000               -73.986580               40.755136\n",
       "263000               -73.998393               40.750073\n",
       "264000               -74.008030               40.741951\n",
       "265000               -73.989151               40.742354\n",
       "266000               -73.991255               40.760193\n",
       "267000               -73.993379               40.692395\n",
       "268000               -73.980144               40.755003\n",
       "269000               -73.977724               40.729387\n",
       "270000               -73.990617               40.766697\n",
       "271000               -74.010434               40.709056\n",
       "272000               -73.991382               40.754666\n",
       "273000               -73.993379               40.692395\n",
       "274000               -73.965930               40.754557\n",
       "275000               -73.988557               40.746201\n",
       "276000               -73.989129               40.689269\n",
       "277000               -73.992663               40.718939\n",
       "278000               -73.981632               40.752062\n",
       "279000               -74.001971               40.745497\n",
       "280000               -73.964785               40.760203\n",
       "281000               -74.002150               40.730386\n",
       "282000               -74.000271               40.735238\n",
       "283000               -73.979738               40.739126\n",
       "284000               -73.989551               40.740343\n",
       "285000               -73.988484               40.749013\n",
       "\n",
       "[286 rows x 2 columns]"
      ]
     },
     "execution_count": 9,
     "metadata": {},
     "output_type": "execute_result"
    }
   ],
   "source": [
    "# extract a column from a data frame, nested []\n",
    "cb[['start station longitude', 'start station latitude']]"
   ]
  },
  {
   "cell_type": "code",
   "execution_count": null,
   "metadata": {},
   "outputs": [],
   "source": []
  },
  {
   "cell_type": "code",
   "execution_count": 22,
   "metadata": {},
   "outputs": [],
   "source": [
    "a = [1,2,3]\n",
    "b = ['a','b','c']"
   ]
  },
  {
   "cell_type": "code",
   "execution_count": 23,
   "metadata": {},
   "outputs": [
    {
     "data": {
      "text/plain": [
       "<zip at 0x7ff8c8221f48>"
      ]
     },
     "execution_count": 23,
     "metadata": {},
     "output_type": "execute_result"
    }
   ],
   "source": [
    "zip(a,b)"
   ]
  },
  {
   "cell_type": "code",
   "execution_count": 24,
   "metadata": {},
   "outputs": [
    {
     "data": {
      "text/plain": [
       "[(1, 'a'), (2, 'b'), (3, 'c')]"
      ]
     },
     "execution_count": 24,
     "metadata": {},
     "output_type": "execute_result"
    }
   ],
   "source": [
    "# in python 3, need to list to see what is in zip\n",
    "list(zip(a,b))"
   ]
  },
  {
   "cell_type": "code",
   "execution_count": null,
   "metadata": {},
   "outputs": [],
   "source": []
  },
  {
   "cell_type": "code",
   "execution_count": 10,
   "metadata": {
    "scrolled": true
   },
   "outputs": [
    {
     "data": {
      "text/plain": [
       "[(-73.969053009999996, 40.750019860000002),\n",
       " (-73.99144871, 40.743954109999997),\n",
       " (-73.989110999999994, 40.722054999999997),\n",
       " (-73.988899570000001, 40.732232719999999),\n",
       " (-73.986923000000004, 40.734231999999999),\n",
       " (-74.000270999999998, 40.735238000000003),\n",
       " (-73.981632399999995, 40.752062309999999),\n",
       " (-73.987882049999996, 40.76227205),\n",
       " (-74.008592070000006, 40.736196700000001),\n",
       " (-73.983209279999997, 40.741472860000002),\n",
       " (-74.00166999999999, 40.707872999999999),\n",
       " (-73.994618430000003, 40.760094369999997),\n",
       " (-73.990538999999998, 40.693829999999998),\n",
       " (-73.987535230000006, 40.751726320000003),\n",
       " (-74.002970880000007, 40.72710258),\n",
       " (-73.989978249999993, 40.720195760000003),\n",
       " (-73.985179770000002, 40.720664419999999),\n",
       " (-74.005664429999996, 40.722437970000001),\n",
       " (-73.967416, 40.756014),\n",
       " (-74.002950350000006, 40.749717750000002),\n",
       " (-73.977987400000004, 40.753201590000003),\n",
       " (-74.003664430000001, 40.743174490000001),\n",
       " (-74.004830909999995, 40.735353979999999),\n",
       " (-73.983624640000002, 40.69474881),\n",
       " (-73.983798550000003, 40.72621788),\n",
       " (-73.987834129999996, 40.724677210000003),\n",
       " (-74.005549000000002, 40.717571),\n",
       " (-74.011219780000005, 40.715421970000001),\n",
       " (-74.000263939999996, 40.732241190000003),\n",
       " (-73.986022129999995, 40.740963739999998),\n",
       " (-73.988899570000001, 40.732232719999999),\n",
       " (-74.001971389999994, 40.745497299999997),\n",
       " (-73.981632399999995, 40.752062309999999),\n",
       " (-73.978094720000001, 40.736502000000002),\n",
       " (-73.993928879999999, 40.767272159999997),\n",
       " (-73.999496010000001, 40.723627380000003),\n",
       " (-73.988557229999998, 40.746200899999998),\n",
       " (-73.988020840000004, 40.717227399999999),\n",
       " (-73.988020840000004, 40.717227399999999),\n",
       " (-73.982681290000002, 40.763440580000001),\n",
       " (-73.980165549999995, 40.717399729999997),\n",
       " (-73.994155559999996, 40.741739690000003),\n",
       " (-74.004607300000004, 40.71273266),\n",
       " (-73.993915000000001, 40.746646999999996),\n",
       " (-73.994155559999996, 40.741739690000003),\n",
       " (-73.977687520000003, 40.725213109999999),\n",
       " (-73.989551090000006, 40.740343200000005),\n",
       " (-73.990617279999995, 40.766696709999998),\n",
       " (-73.977909999999994, 40.751581000000002),\n",
       " (-74.007318530000006, 40.707064559999999),\n",
       " (-73.987535230000006, 40.751726320000003),\n",
       " (-74.016583539999999, 40.715337899999994),\n",
       " (-74.000263939999996, 40.732241190000003),\n",
       " (-73.979481480000004, 40.712199060000003),\n",
       " (-74.004518869999998, 40.746919589999997),\n",
       " (-74.010433820000003, 40.709056230000002),\n",
       " (-73.978094720000001, 40.736502000000002),\n",
       " (-73.989150760000001, 40.742354299999995),\n",
       " (-74.009000900000004, 40.718709869999998),\n",
       " (-73.987654280000001, 40.750977110000001),\n",
       " (-74.013012000000003, 40.714978700000003),\n",
       " (-73.999946609999995, 40.737815089999998),\n",
       " (-74.016583539999999, 40.715337899999994),\n",
       " (-74.001497459999996, 40.741776029999997),\n",
       " (-74.003664430000001, 40.743174490000001),\n",
       " (-74.012723399999999, 40.702550649999999),\n",
       " (-73.989900250000005, 40.714274869999997),\n",
       " (-73.980420469999999, 40.760659699999998),\n",
       " (-74.006744359999999, 40.731724280000002),\n",
       " (-74.004431719999999, 40.74206539),\n",
       " (-73.994800119999994, 40.72317958),\n",
       " (-73.982681290000002, 40.763440580000001),\n",
       " (-73.987216189999998, 40.752996410000002),\n",
       " (-73.990092959999998, 40.737049839999997),\n",
       " (-73.991381520000004, 40.75466591),\n",
       " (-73.973714650000005, 40.764397100000004),\n",
       " (-74.009106270000004, 40.71473993),\n",
       " (-73.990741420000006, 40.734545670000003),\n",
       " (-73.984092140000001, 40.740258779999998),\n",
       " (-73.993933999999996, 40.751550999999999),\n",
       " (-73.986580320000002, 40.75513557),\n",
       " (-73.989551090000006, 40.740343200000005),\n",
       " (-74.005508669999998, 40.740582600000003),\n",
       " (-73.991454000000004, 40.700468999999998),\n",
       " (-73.993933999999996, 40.751550999999999),\n",
       " (-74.002950350000006, 40.749717750000002),\n",
       " (-73.997203069999998, 40.721815800000002),\n",
       " (-73.960241159999995, 40.715348249999998),\n",
       " (-74.006180259999994, 40.736528890000002),\n",
       " (-73.950047979999994, 40.680983390000002),\n",
       " (-73.993933999999996, 40.751550999999999),\n",
       " (-73.98024289, 40.734160590000002),\n",
       " (-73.990092959999998, 40.737049839999997),\n",
       " (-74.001971389999994, 40.745497299999997),\n",
       " (-73.98057249, 40.729553610000004),\n",
       " (-73.986923000000004, 40.734231999999999),\n",
       " (-73.981346000000002, 40.714215000000003),\n",
       " (-73.977706000000012, 40.751872999999996),\n",
       " (-73.981948290000005, 40.745712100000006),\n",
       " (-74.009105899999994, 40.716250080000002),\n",
       " (-73.992389669999994, 40.737261859999997),\n",
       " (-74.011219780000005, 40.715421970000001),\n",
       " (-73.997046799999993, 40.71413089),\n",
       " (-73.977987400000004, 40.753201590000003),\n",
       " (-73.968341010000003, 40.708272950000001),\n",
       " (-73.993012219999997, 40.762698819999997),\n",
       " (-73.975360820000006, 40.741443869999998),\n",
       " (-73.985179770000002, 40.720664419999999),\n",
       " (-73.993790250000004, 40.72743423),\n",
       " (-73.989639109999999, 40.692462769999999),\n",
       " (-73.997235509999996, 40.747348250000002),\n",
       " (-73.993445589999993, 40.69760127),\n",
       " (-73.995101320000003, 40.73331967),\n",
       " (-73.994564049999994, 40.739713010000003),\n",
       " (-74.010202340000006, 40.712912240000001),\n",
       " (-73.988483950000003, 40.749012710000002),\n",
       " (-73.977909999999994, 40.751581000000002),\n",
       " (-73.993933999999996, 40.751550999999999),\n",
       " (-73.990741420000006, 40.734545670000003),\n",
       " (-73.997046799999993, 40.71413089),\n",
       " (-73.981923379999998, 40.765265399999997),\n",
       " (-74.010433820000003, 40.709056230000002),\n",
       " (-73.988639000000006, 40.768253999999999),\n",
       " (-74.00176802, 40.750663860000003),\n",
       " (-73.979660690000003, 40.743943139999999),\n",
       " (-73.996950940000005, 40.72679454),\n",
       " (-73.981923379999998, 40.765265399999997),\n",
       " (-73.991381520000004, 40.75466591),\n",
       " (-73.976056, 40.744022999999999),\n",
       " (-73.982911529999996, 40.7568001),\n",
       " (-73.977931720000001, 40.720828339999997),\n",
       " (-73.977987400000004, 40.753201590000003),\n",
       " (-73.987894729999994, 40.764618370000001),\n",
       " (-73.991475350000002, 40.722293460000003),\n",
       " (-73.981420060000005, 40.727407939999999),\n",
       " (-73.99144871, 40.743954109999997),\n",
       " (-74.007221560000005, 40.708621440000002),\n",
       " (-73.993933999999996, 40.751550999999999),\n",
       " (-74.006536089999997, 40.709559579999997),\n",
       " (-73.986830769999997, 40.745167700000003),\n",
       " (-73.977224789999994, 40.76340613),\n",
       " (-74.010206089999997, 40.720434109999999),\n",
       " (-73.981854240000004, 40.724537339999998),\n",
       " (-73.988639000000006, 40.768253999999999),\n",
       " (-73.996950940000005, 40.72679454),\n",
       " (-73.987029500000006, 40.715595090000001),\n",
       " (-73.986022129999995, 40.740963739999998),\n",
       " (-73.986830769999997, 40.745167700000003),\n",
       " (-73.991580429999999, 40.732617869999999),\n",
       " (-73.978034149999999, 40.696089409999999),\n",
       " (-74.002970880000007, 40.72710258),\n",
       " (-73.9907647, 40.730286659999997),\n",
       " (-73.99726235, 40.742387870000002),\n",
       " (-74.000040310000003, 40.743453350000003),\n",
       " (-73.992389669999994, 40.737261859999997),\n",
       " (-73.977706000000012, 40.751872999999996),\n",
       " (-74.008030129999995, 40.741951380000003),\n",
       " (-73.991475350000002, 40.722293460000003),\n",
       " (-73.975738809999996, 40.73314259),\n",
       " (-74.002637609999994, 40.739016909999997),\n",
       " (-73.999496010000001, 40.723627380000003),\n",
       " (-73.997043739999995, 40.736494030000003),\n",
       " (-73.990985069999994, 40.757569899999993),\n",
       " (-73.989128669999999, 40.689269420000002),\n",
       " (-73.999060650000004, 40.730477469999997),\n",
       " (-73.979737760000006, 40.73912601),\n",
       " (-73.981918410000006, 40.769155050000002),\n",
       " (-73.993933999999996, 40.751550999999999),\n",
       " (-73.999496010000001, 40.723627380000003),\n",
       " (-73.990930849999998, 40.750199950000003),\n",
       " (-73.9907647, 40.730286659999997),\n",
       " (-73.973441900000012, 40.747803730000001),\n",
       " (-73.993915000000001, 40.746646999999996),\n",
       " (-73.990741420000006, 40.734545670000003),\n",
       " (-73.986569279999998, 40.701485099999999),\n",
       " (-73.991907589999997, 40.716058660000002),\n",
       " (-73.994810509999994, 40.75044999),\n",
       " (-73.994810509999994, 40.75044999),\n",
       " (-74.002149880000005, 40.730385990000002),\n",
       " (-73.959206219999999, 40.758491159999998),\n",
       " (-73.993790250000004, 40.72743423),\n",
       " (-73.971878860000004, 40.754601100000002),\n",
       " (-73.989150760000001, 40.742354299999995),\n",
       " (-73.993722219999995, 40.756458240000001),\n",
       " (-74.007756000000001, 40.746745000000004),\n",
       " (-74.002344820000005, 40.714948069999998),\n",
       " (-73.974986959999995, 40.755102669999999),\n",
       " (-73.992389669999994, 40.737261859999997),\n",
       " (-73.990092959999998, 40.737049839999997),\n",
       " (-73.979737760000006, 40.73912601),\n",
       " (-73.993836049999999, 40.702771589999998),\n",
       " (-73.981854240000004, 40.724537339999998),\n",
       " (-74.010202340000006, 40.712912240000001),\n",
       " (-73.990696560000004, 40.725028760000001),\n",
       " (-73.979954660000004, 40.722992079999997),\n",
       " (-73.992662879999997, 40.718939040000002),\n",
       " (-74.007113840000002, 40.73291553),\n",
       " (-74.005300629999994, 40.708235019999996),\n",
       " (-74.004607300000004, 40.71273266),\n",
       " (-73.996375, 40.717290000000006),\n",
       " (-74.008873080000001, 40.707179359999998),\n",
       " (-74.001971389999994, 40.745497299999997),\n",
       " (-73.974986959999995, 40.755102669999999),\n",
       " (-73.969053009999996, 40.750019860000002),\n",
       " (-73.994618430000003, 40.760094369999997),\n",
       " (-74.004518869999998, 40.746919589999997),\n",
       " (-73.994810509999994, 40.75044999),\n",
       " (-73.990026200000003, 40.756405479999998),\n",
       " (-73.988639000000006, 40.768253999999999),\n",
       " (-73.981632399999995, 40.752062309999999),\n",
       " (-73.994810509999994, 40.75044999),\n",
       " (-73.969222729999998, 40.684157480000003),\n",
       " (-73.976056, 40.744022999999999),\n",
       " (-73.970694309999999, 40.758280650000003),\n",
       " (-74.000165449999997, 40.711174159999999),\n",
       " (-73.969689020000004, 40.687644839999997),\n",
       " (-74.007488420000001, 40.728738880000002),\n",
       " (-73.986923000000004, 40.734231999999999),\n",
       " (-73.986022129999995, 40.740963739999998),\n",
       " (-74.00612572, 40.705309540000002),\n",
       " (-73.977224789999994, 40.76340613),\n",
       " (-73.991255100000004, 40.760192519999997),\n",
       " (-74.013220689999997, 40.71754834),\n",
       " (-73.976048820000003, 40.748900599999999),\n",
       " (-73.993933999999996, 40.751550999999999),\n",
       " (-74.016583539999999, 40.715337899999994),\n",
       " (-73.994046490000002, 40.72903917),\n",
       " (-73.998102309999993, 40.729170250000003),\n",
       " (-73.984092140000001, 40.740258779999998),\n",
       " (-73.977987400000004, 40.753201590000003),\n",
       " (-73.987894729999994, 40.764618370000001),\n",
       " (-73.990617279999995, 40.766696709999998),\n",
       " (-73.986022129999995, 40.740963739999998),\n",
       " (-73.986580320000002, 40.75513557),\n",
       " (-73.991381520000004, 40.75466591),\n",
       " (-73.988899570000001, 40.732232719999999),\n",
       " (-73.986580320000002, 40.75513557),\n",
       " (-74.011219780000005, 40.715421970000001),\n",
       " (-74.007113840000002, 40.73291553),\n",
       " (-73.994223660000003, 40.715815500000005),\n",
       " (-73.987882049999996, 40.76227205),\n",
       " (-74.002970880000007, 40.72710258),\n",
       " (-73.991580429999999, 40.732617869999999),\n",
       " (-74.004518869999998, 40.746919589999997),\n",
       " (-73.9907647, 40.730286659999997),\n",
       " (-73.983361830000007, 40.762288259999998),\n",
       " (-73.974314579999998, 40.685395669999998),\n",
       " (-73.965964099999994, 40.683178130000002),\n",
       " (-73.998004190000003, 40.73532427),\n",
       " (-73.994046490000002, 40.72903917),\n",
       " (-73.976056, 40.744022999999999),\n",
       " (-73.995101320000003, 40.73331967),\n",
       " (-73.977987400000004, 40.753201590000003),\n",
       " (-73.996950940000005, 40.72679454),\n",
       " (-73.983361830000007, 40.762288259999998),\n",
       " (-73.978311000000005, 40.748238000000001),\n",
       " (-74.00176802, 40.750663860000003),\n",
       " (-74.010433820000003, 40.709056230000002),\n",
       " (-73.986580320000002, 40.75513557),\n",
       " (-74.00562789, 40.714504509999998),\n",
       " (-73.991600000000005, 40.749155999999999),\n",
       " (-73.981693329999999, 40.766953170000001),\n",
       " (-73.986580320000002, 40.75513557),\n",
       " (-73.998392789999997, 40.750072700000004),\n",
       " (-74.008030129999995, 40.741951380000003),\n",
       " (-73.989150760000001, 40.742354299999995),\n",
       " (-73.991255100000004, 40.760192519999997),\n",
       " (-73.993379090000005, 40.692395019999999),\n",
       " (-73.980144370000005, 40.75500254),\n",
       " (-73.977724289999998, 40.729386849999997),\n",
       " (-73.990617279999995, 40.766696709999998),\n",
       " (-74.010433820000003, 40.709056230000002),\n",
       " (-73.991381520000004, 40.75466591),\n",
       " (-73.993379090000005, 40.692395019999999),\n",
       " (-73.965929759999995, 40.754557310000003),\n",
       " (-73.988557229999998, 40.746200899999998),\n",
       " (-73.989128669999999, 40.689269420000002),\n",
       " (-73.992662879999997, 40.718939040000002),\n",
       " (-73.981632399999995, 40.752062309999999),\n",
       " (-74.001971389999994, 40.745497299999997),\n",
       " (-73.964784730000005, 40.760202579999998),\n",
       " (-74.002149880000005, 40.730385990000002),\n",
       " (-74.000270999999998, 40.735238000000003),\n",
       " (-73.979737760000006, 40.73912601),\n",
       " (-73.989551090000006, 40.740343200000005),\n",
       " (-73.988483950000003, 40.749012710000002)]"
      ]
     },
     "execution_count": 10,
     "metadata": {},
     "output_type": "execute_result"
    }
   ],
   "source": [
    "list(zip(cb['start station longitude'].values, cb['start station latitude']))"
   ]
  },
  {
   "cell_type": "code",
   "execution_count": 11,
   "metadata": {},
   "outputs": [
    {
     "name": "stderr",
     "output_type": "stream",
     "text": [
      "/usr/local/Anaconda3-5.0.0-Linux-x86_64/envs/PUI2016_Python3/lib/python3.5/site-packages/ipykernel/__main__.py:2: SettingWithCopyWarning: \n",
      "A value is trying to be set on a copy of a slice from a DataFrame.\n",
      "Try using .loc[row_indexer,col_indexer] = value instead\n",
      "\n",
      "See the caveats in the documentation: http://pandas.pydata.org/pandas-docs/stable/indexing.html#indexing-view-versus-copy\n",
      "  from ipykernel import kernelapp as app\n"
     ]
    }
   ],
   "source": [
    "# combine lat and lon to one column\n",
    "cb['lonlat'] = list(zip(cb['start station longitude'].values, cb['start station latitude'].values))"
   ]
  },
  {
   "cell_type": "code",
   "execution_count": 12,
   "metadata": {},
   "outputs": [
    {
     "name": "stderr",
     "output_type": "stream",
     "text": [
      "/usr/local/Anaconda3-5.0.0-Linux-x86_64/envs/PUI2016_Python3/lib/python3.5/site-packages/ipykernel/__main__.py:3: SettingWithCopyWarning: \n",
      "A value is trying to be set on a copy of a slice from a DataFrame.\n",
      "Try using .loc[row_indexer,col_indexer] = value instead\n",
      "\n",
      "See the caveats in the documentation: http://pandas.pydata.org/pandas-docs/stable/indexing.html#indexing-view-versus-copy\n",
      "  app.launch_new_instance()\n"
     ]
    }
   ],
   "source": [
    "# make lonlat into actual point data\n",
    "# Create Point Geometry for based on lonlat column\n",
    "cb['geometry'] = cb[['lonlat']].applymap(lambda x:shapely.geometry.Point(x))"
   ]
  },
  {
   "cell_type": "code",
   "execution_count": 13,
   "metadata": {},
   "outputs": [
    {
     "data": {
      "text/plain": [
       "<matplotlib.axes._subplots.AxesSubplot at 0x7fd3dd4c5fd0>"
      ]
     },
     "execution_count": 13,
     "metadata": {},
     "output_type": "execute_result"
    },
    {
     "data": {
      "image/png": "[encoded data removed]",
      "text/plain": [
       "<matplotlib.figure.Figure at 0x7fd40c185128>"
      ]
     },
     "metadata": {},
     "output_type": "display_data"
    }
   ],
   "source": [
    "cb.plot()"
   ]
  },
  {
   "cell_type": "code",
   "execution_count": 14,
   "metadata": {},
   "outputs": [],
   "source": [
    "cb = gpd.GeoDataFrame(cb)"
   ]
  },
  {
   "cell_type": "code",
   "execution_count": 15,
   "metadata": {},
   "outputs": [
    {
     "data": {
      "text/plain": [
       "<matplotlib.axes._subplots.AxesSubplot at 0x7fd3dd4eb4e0>"
      ]
     },
     "execution_count": 15,
     "metadata": {},
     "output_type": "execute_result"
    },
    {
     "data": {
      "image/png": "[encoded data removed]",
      "text/plain": [
       "<matplotlib.figure.Figure at 0x7fd3dd220f28>"
      ]
     },
     "metadata": {},
     "output_type": "display_data"
    }
   ],
   "source": [
    "cb.plot()"
   ]
  },
  {
   "cell_type": "code",
   "execution_count": 16,
   "metadata": {},
   "outputs": [],
   "source": [
    "# has no crs\n",
    "cb.crs"
   ]
  },
  {
   "cell_type": "code",
   "execution_count": 17,
   "metadata": {},
   "outputs": [],
   "source": [
    "# 4326 is the right coordinate\n",
    "cb.crs = from_epsg(4326)"
   ]
  },
  {
   "cell_type": "code",
   "execution_count": 18,
   "metadata": {},
   "outputs": [
    {
     "data": {
      "text/plain": [
       "{'init': 'epsg:4326', 'no_defs': True}"
      ]
     },
     "execution_count": 18,
     "metadata": {},
     "output_type": "execute_result"
    }
   ],
   "source": [
    "# now it has crs\n",
    "cb.crs"
   ]
  },
  {
   "cell_type": "code",
   "execution_count": 23,
   "metadata": {},
   "outputs": [],
   "source": [
    "# to the coordinate system\n",
    "cb = cb.to_crs(epsg = 2263)"
   ]
  },
  {
   "cell_type": "code",
   "execution_count": 24,
   "metadata": {},
   "outputs": [
    {
     "data": {
      "text/plain": [
       "<matplotlib.axes._subplots.AxesSubplot at 0x7fd3d189afd0>"
      ]
     },
     "execution_count": 24,
     "metadata": {},
     "output_type": "execute_result"
    },
    {
     "data": {
      "image/png": "[encoded data removed]",
      "text/plain": [
       "<matplotlib.figure.Figure at 0x7fd3d1883630>"
      ]
     },
     "metadata": {},
     "output_type": "display_data"
    }
   ],
   "source": [
    "cb.plot()"
   ]
  },
  {
   "cell_type": "code",
   "execution_count": null,
   "metadata": {},
   "outputs": [],
   "source": []
  },
  {
   "cell_type": "code",
   "execution_count": null,
   "metadata": {},
   "outputs": [],
   "source": []
  },
  {
   "cell_type": "markdown",
   "metadata": {},
   "source": [
    "## spatial weight"
   ]
  },
  {
   "cell_type": "code",
   "execution_count": 21,
   "metadata": {},
   "outputs": [],
   "source": [
    "import pysal as ps"
   ]
  },
  {
   "cell_type": "code",
   "execution_count": 22,
   "metadata": {},
   "outputs": [
    {
     "ename": "AttributeError",
     "evalue": "module 'pysal.weights' has no attribute 'Queen'",
     "output_type": "error",
     "traceback": [
      "\u001b[0;31m---------------------------------------------------------------------------\u001b[0m",
      "\u001b[0;31mAttributeError\u001b[0m                            Traceback (most recent call last)",
      "\u001b[0;32m<ipython-input-22-55475c014799>\u001b[0m in \u001b[0;36m<module>\u001b[0;34m()\u001b[0m\n\u001b[0;32m----> 1\u001b[0;31m \u001b[0mw\u001b[0m \u001b[0;34m=\u001b[0m \u001b[0mps\u001b[0m\u001b[0;34m.\u001b[0m\u001b[0mweights\u001b[0m\u001b[0;34m.\u001b[0m\u001b[0mQueen\u001b[0m\u001b[0;34m.\u001b[0m\u001b[0mfrom_dataframe\u001b[0m\u001b[0;34m(\u001b[0m\u001b[0mct\u001b[0m\u001b[0;34m)\u001b[0m\u001b[0;34m\u001b[0m\u001b[0m\n\u001b[0m",
      "\u001b[0;31mAttributeError\u001b[0m: module 'pysal.weights' has no attribute 'Queen'"
     ]
    }
   ],
   "source": [
    "w = ps.weights.Queen.from_dataframe(ct)"
   ]
  },
  {
   "cell_type": "code",
   "execution_count": null,
   "metadata": {},
   "outputs": [],
   "source": [
    "pl.imshow(w.full()[0])"
   ]
  }
 ],
 "metadata": {
  "kernelspec": {
   "display_name": "PUI2016_Python3",
   "language": "python",
   "name": "pui2016_python3"
  },
  "language_info": {
   "codemirror_mode": {
    "name": "ipython",
    "version": 3
   },
   "file_extension": ".py",
   "mimetype": "text/x-python",
   "name": "python",
   "nbconvert_exporter": "python",
   "pygments_lexer": "ipython3",
   "version": "3.5.4"
  }
 },
 "nbformat": 4,
 "nbformat_minor": 2
}
