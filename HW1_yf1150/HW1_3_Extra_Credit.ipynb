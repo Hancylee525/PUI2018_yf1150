{
 "cells": [
  {
   "cell_type": "code",
   "execution_count": 1,
   "metadata": {},
   "outputs": [],
   "source": [
    "from __future__ import print_function\n",
    "__author__ = \"Federica B. Bianco, CUSP NYU 2016\""
   ]
  },
  {
   "cell_type": "code",
   "execution_count": 2,
   "metadata": {},
   "outputs": [],
   "source": [
    "import os\n",
    "import sys"
   ]
  },
  {
   "cell_type": "code",
   "execution_count": 3,
   "metadata": {
    "scrolled": true
   },
   "outputs": [],
   "source": [
    "import numpy as np"
   ]
  },
  {
   "cell_type": "code",
   "execution_count": 4,
   "metadata": {},
   "outputs": [],
   "source": [
    "np.random.seed(999)"
   ]
  },
  {
   "cell_type": "code",
   "execution_count": 5,
   "metadata": {},
   "outputs": [],
   "source": [
    "ReprRand = np.random.randn(2, 100)"
   ]
  },
  {
   "cell_type": "code",
   "execution_count": 6,
   "metadata": {},
   "outputs": [
    {
     "name": "stdout",
     "output_type": "stream",
     "text": [
      "Populating the interactive namespace from numpy and matplotlib\n"
     ]
    }
   ],
   "source": [
    "import pylab as pl # import the histogram maker\n",
    "%pylab inline"
   ]
  },
  {
   "cell_type": "code",
   "execution_count": 12,
   "metadata": {
    "scrolled": true
   },
   "outputs": [
    {
     "data": {
      "text/plain": [
       "(array([ 103.,  102.,   77.,  103.,   96.,   97.,  104.,  122.,   98.,   98.]),\n",
       " array([  1.27778577e-04,   9.98581437e-02,   1.99588509e-01,\n",
       "          2.99318874e-01,   3.99049239e-01,   4.98779604e-01,\n",
       "          5.98509969e-01,   6.98240334e-01,   7.97970700e-01,\n",
       "          8.97701065e-01,   9.97431430e-01]),\n",
       " <a list of 10 Patch objects>)"
      ]
     },
     "execution_count": 12,
     "metadata": {},
     "output_type": "execute_result"
    },
    {
     "data": {
      "image/png": "[encoded data removed]",
      "text/plain": [
       "<matplotlib.figure.Figure at 0x7f21c8a1f438>"
      ]
     },
     "metadata": {},
     "output_type": "display_data"
    }
   ],
   "source": [
    "pl.hist(np.random.rand(1000))"
   ]
  },
  {
   "cell_type": "code",
   "execution_count": 13,
   "metadata": {
    "scrolled": true
   },
   "outputs": [
    {
     "data": {
      "text/plain": [
       "(array([  8.,  10.,   5.,  10.,  10.,  10.,  11.,  11.,  13.,  12.]),\n",
       " array([ 0.0037532 ,  0.1032877 ,  0.20282219,  0.30235669,  0.40189118,\n",
       "         0.50142568,  0.60096017,  0.70049466,  0.80002916,  0.89956365,\n",
       "         0.99909815]),\n",
       " <a list of 10 Patch objects>)"
      ]
     },
     "execution_count": 13,
     "metadata": {},
     "output_type": "execute_result"
    },
    {
     "data": {
      "image/png": "[encoded data removed]",
      "text/plain": [
       "<matplotlib.figure.Figure at 0x7f21c899d4a8>"
      ]
     },
     "metadata": {},
     "output_type": "display_data"
    }
   ],
   "source": [
    "np.random.seed(999)\n",
    "pl.hist(np.random.rand(100))"
   ]
  },
  {
   "cell_type": "code",
   "execution_count": 19,
   "metadata": {},
   "outputs": [
    {
     "data": {
      "text/plain": [
       "(array([   6.,   17.,   45.,  138.,  228.,  255.,  182.,   89.,   34.,    6.]),\n",
       " array([-0.35076016, -0.28455848, -0.2183568 , -0.15215512, -0.08595344,\n",
       "        -0.01975176,  0.04644992,  0.1126516 ,  0.17885328,  0.24505496,\n",
       "         0.31125664]),\n",
       " <a list of 10 Patch objects>)"
      ]
     },
     "execution_count": 19,
     "metadata": {},
     "output_type": "execute_result"
    },
    {
     "data": {
      "image/png": "[encoded data removed]",
      "text/plain": [
       "<matplotlib.figure.Figure at 0x7f21c88705f8>"
      ]
     },
     "metadata": {},
     "output_type": "display_data"
    }
   ],
   "source": [
    "pl.hist(np.random.normal(0, 0.1, 1000))"
   ]
  },
  {
   "cell_type": "code",
   "execution_count": 18,
   "metadata": {},
   "outputs": [
    {
     "data": {
      "text/plain": [
       "0.9545537354540587"
      ]
     },
     "execution_count": 18,
     "metadata": {},
     "output_type": "execute_result"
    }
   ],
   "source": [
    "np.random.uniform()"
   ]
  },
  {
   "cell_type": "code",
   "execution_count": 19,
   "metadata": {},
   "outputs": [
    {
     "data": {
      "text/plain": [
       "0.06336002785849693"
      ]
     },
     "execution_count": 19,
     "metadata": {},
     "output_type": "execute_result"
    }
   ],
   "source": [
    "np.random.uniform()"
   ]
  },
  {
   "cell_type": "code",
   "execution_count": 20,
   "metadata": {},
   "outputs": [],
   "source": [
    "np.random.randn?"
   ]
  },
  {
   "cell_type": "code",
   "execution_count": 21,
   "metadata": {},
   "outputs": [
    {
     "data": {
      "text/plain": [
       "array([[  1.51883882e-01,   1.08328312e+00,   3.04216840e-01,\n",
       "          4.80149533e-01,  -5.89463387e-02,  -1.46370934e+00,\n",
       "          1.00861910e+00,   2.47134673e-01,  -1.42567024e+00,\n",
       "          1.44274033e+00,   1.32590206e+00,   1.08025399e+00,\n",
       "          2.06918850e+00,  -3.02052269e-01,  -4.77758664e-01,\n",
       "          1.81628570e+00,  -8.98165626e-01,   5.40270572e-02,\n",
       "          6.12752286e-01,   2.55060987e-01,   1.08929359e-01,\n",
       "         -3.91271637e-02,  -1.07922228e+00,   1.91838375e-01,\n",
       "          2.13553178e+00,  -2.29976092e-01,   7.30042527e-02,\n",
       "          7.34929721e-01,  -9.27676820e-01,  -7.13609186e-01,\n",
       "         -1.77102969e-02,   1.70184344e+00,  -1.18823626e+00,\n",
       "         -1.68432844e+00,   4.38167317e-01,   1.88146757e-01,\n",
       "         -1.56384444e+00,  -1.21199397e+00,  -1.10145252e+00,\n",
       "         -4.27706733e-01,   4.80260689e-01,  -1.08525169e+00,\n",
       "          2.12497983e-01,  -2.47045469e-01,   3.74990260e-01,\n",
       "         -7.12124255e-01,   4.50978930e-02,   8.59086300e-01,\n",
       "          1.38059080e+00,  -5.12501327e-01,   6.65651468e-01,\n",
       "          1.07865774e+00,   1.22035110e+00,   3.58094045e-01,\n",
       "          2.05792479e+00,  -5.05895627e-01,   6.01607606e-01,\n",
       "          2.20616041e-02,  -3.77431495e-01,   1.19917394e+00,\n",
       "         -3.07199131e-01,   5.24144832e-01,  -1.63568012e+00,\n",
       "          2.80945523e-01,  -1.28077733e+00,   3.07058362e+00,\n",
       "          1.40697963e-02,   4.22433624e-01,  -1.00681526e+00,\n",
       "         -7.06829233e-01,  -2.06958223e+00,   1.04397705e+00,\n",
       "          2.20425054e-03,  -8.73310300e-01,   1.34203593e+00,\n",
       "         -7.32420476e-01,  -1.98764559e-01,   7.98110983e-02,\n",
       "          2.26361303e-01,  -6.92289946e-01,  -7.38721473e-01,\n",
       "          9.51468597e-01,  -1.05772457e+00,  -9.26855776e-01,\n",
       "         -3.82745811e-01,  -2.00117592e-01,  -1.68328897e-01,\n",
       "          1.39975884e-02,   6.83759416e-01,   4.80130672e-01,\n",
       "         -3.08711192e-01,  -5.18304047e-01,   2.11189887e-01,\n",
       "         -1.20459298e+00,   2.34505781e-02,   7.40706755e-01,\n",
       "          8.34978932e-01,  -7.25859267e-01,  -1.29830176e+00,\n",
       "         -1.13629288e+00],\n",
       "       [ -4.95672813e-01,   5.94776607e-01,  -4.24995188e-01,\n",
       "         -5.80480892e-01,  -5.78382559e-01,  -7.91310450e-01,\n",
       "          1.06855293e+00,  -5.00549586e-01,   8.95740664e-01,\n",
       "         -4.84717779e-01,   8.65988248e-02,  -5.04001050e-01,\n",
       "          1.63830921e+00,   1.63103412e+00,   7.72656448e-01,\n",
       "          2.97862618e-01,   7.63739735e-01,  -1.90247557e+00,\n",
       "          7.92215093e-01,   5.73824265e-01,   2.76314035e-01,\n",
       "         -2.79994655e-03,   8.99208037e-01,  -2.52527304e-01,\n",
       "         -3.17176051e+00,   1.13387171e+00,   1.35625007e-01,\n",
       "         -5.53878045e-01,  -1.53335006e-01,  -8.03208575e-01,\n",
       "          1.46883475e-01,  -6.68817973e-01,   4.03940392e-01,\n",
       "          8.02969313e-01,  -9.53946998e-01,   2.53788565e-01,\n",
       "          1.74003487e-01,   3.56756699e-01,  -1.40020431e+00,\n",
       "         -8.85943976e-01,  -1.46789950e+00,   1.23415123e+00,\n",
       "         -1.14095708e+00,  -2.84263596e+00,   5.67751408e-01,\n",
       "         -8.70440965e-01,   2.83515490e-02,  -6.02645187e-01,\n",
       "          7.59008897e-01,   6.59969510e-01,   1.94586583e+00,\n",
       "         -7.10076230e-01,  -1.24547253e+00,  -1.67374634e+00,\n",
       "         -6.49475240e-01,  -3.68993522e-01,  -6.42065577e-01,\n",
       "         -2.89673890e-02,  -1.38012479e+00,  -1.11119356e+00,\n",
       "         -1.19651586e+00,  -1.04282659e+00,  -1.00895767e+00,\n",
       "         -1.41329050e+00,   1.63396097e+00,  -4.66801865e-03,\n",
       "         -5.25063918e-01,   2.35859097e-01,   1.84222629e+00,\n",
       "          1.21516428e+00,   1.37582672e+00,   2.74331457e-01,\n",
       "         -3.39805258e-01,  -1.47508875e-01,   4.91840636e-01,\n",
       "          2.57666357e-01,  -8.49938310e-01,  -4.56067425e-01,\n",
       "         -9.79307037e-01,   6.64761233e-04,  -1.00557132e+00,\n",
       "         -5.35788242e-01,   5.16774070e-01,  -2.36970422e+00,\n",
       "         -6.50153658e-01,   2.54677655e-01,  -5.36855152e-01,\n",
       "          8.90271660e-01,  -8.53432613e-01,  -1.91972880e-01,\n",
       "          1.36568949e+00,  -6.80659762e-01,   3.90175796e-01,\n",
       "          2.10656465e-01,   3.93781072e-01,  -6.05433514e-02,\n",
       "          6.91266092e-01,   1.71141834e-01,  -3.53395436e-01,\n",
       "          2.18141303e-01]])"
      ]
     },
     "execution_count": 21,
     "metadata": {},
     "output_type": "execute_result"
    }
   ],
   "source": [
    "np.random.randn(2,100) # two row, 100 column"
   ]
  },
  {
   "cell_type": "code",
   "execution_count": 22,
   "metadata": {},
   "outputs": [
    {
     "data": {
      "text/plain": [
       "(2, 100)"
      ]
     },
     "execution_count": 22,
     "metadata": {},
     "output_type": "execute_result"
    }
   ],
   "source": [
    "np.random.randn(2,100).shape #no (), function not exicuted, because the shape do not need to be calculated again"
   ]
  },
  {
   "cell_type": "code",
   "execution_count": 23,
   "metadata": {},
   "outputs": [
    {
     "data": {
      "text/plain": [
       "0.12583157857512137"
      ]
     },
     "execution_count": 23,
     "metadata": {},
     "output_type": "execute_result"
    }
   ],
   "source": [
    "np.random.randn(2,100).mean() #this method is more efficient"
   ]
  },
  {
   "cell_type": "code",
   "execution_count": 24,
   "metadata": {},
   "outputs": [
    {
     "data": {
      "text/plain": [
       "0.045457290559421895"
      ]
     },
     "execution_count": 24,
     "metadata": {},
     "output_type": "execute_result"
    }
   ],
   "source": [
    "np.mean(np.random.randn(2,100))"
   ]
  },
  {
   "cell_type": "code",
   "execution_count": 25,
   "metadata": {},
   "outputs": [
    {
     "data": {
      "text/plain": [
       "array([[-0.24238974],\n",
       "       [-1.14570985]])"
      ]
     },
     "execution_count": 25,
     "metadata": {},
     "output_type": "execute_result"
    }
   ],
   "source": [
    "np.random.randn(2,1) # two row, one column"
   ]
  },
  {
   "cell_type": "code",
   "execution_count": 27,
   "metadata": {},
   "outputs": [
    {
     "data": {
      "text/plain": [
       "array([[[-1.02464401],\n",
       "        [ 0.48860328]],\n",
       "\n",
       "       [[ 0.58995134],\n",
       "        [-1.08186971]]])"
      ]
     },
     "execution_count": 27,
     "metadata": {},
     "output_type": "execute_result"
    }
   ],
   "source": [
    "np.random.randn(2,2,1)"
   ]
  },
  {
   "cell_type": "code",
   "execution_count": 28,
   "metadata": {},
   "outputs": [
    {
     "data": {
      "text/plain": [
       "array([ 0.,  0.,  0.,  0.,  0.,  0.,  0.,  0.,  0.,  0.])"
      ]
     },
     "execution_count": 28,
     "metadata": {},
     "output_type": "execute_result"
    }
   ],
   "source": [
    "np.zeros(10)"
   ]
  },
  {
   "cell_type": "code",
   "execution_count": 29,
   "metadata": {},
   "outputs": [
    {
     "data": {
      "text/plain": [
       "array([ 1.,  1.,  1.,  1.,  1.,  1.,  1.,  1.,  1.,  1.])"
      ]
     },
     "execution_count": 29,
     "metadata": {},
     "output_type": "execute_result"
    }
   ],
   "source": [
    "np.ones(10)"
   ]
  },
  {
   "cell_type": "code",
   "execution_count": 30,
   "metadata": {},
   "outputs": [
    {
     "data": {
      "text/plain": [
       "array([ 0.,  0.,  0.,  0.,  0.,  0.,  0.,  0.,  0.,  0.])"
      ]
     },
     "execution_count": 30,
     "metadata": {},
     "output_type": "execute_result"
    }
   ],
   "source": [
    "np.empty(10)"
   ]
  },
  {
   "cell_type": "code",
   "execution_count": 31,
   "metadata": {},
   "outputs": [],
   "source": [
    "ReprRandAll = np.zeros((50, 2, 100))"
   ]
  },
  {
   "cell_type": "code",
   "execution_count": 32,
   "metadata": {},
   "outputs": [],
   "source": [
    "for i in range(50):\n",
    "    ReprRandAll[i] = ((np.random.randn(2, 100) * np.random.rand(2, 1) * 5 + np.random.rand(2, 1) * 50))"
   ]
  },
  {
   "cell_type": "code",
   "execution_count": 33,
   "metadata": {},
   "outputs": [],
   "source": [
    "# one guassian * shift standard deviation + shift the mean left and right"
   ]
  },
  {
   "cell_type": "code",
   "execution_count": 34,
   "metadata": {},
   "outputs": [
    {
     "data": {
      "text/plain": [
       "(50, 2, 100)"
      ]
     },
     "execution_count": 34,
     "metadata": {},
     "output_type": "execute_result"
    }
   ],
   "source": [
    "ReprRandAll.shape"
   ]
  },
  {
   "cell_type": "code",
   "execution_count": null,
   "metadata": {},
   "outputs": [],
   "source": []
  }
 ],
 "metadata": {
  "kernelspec": {
   "display_name": "PUI2016_Python3",
   "language": "python",
   "name": "pui2016_python3"
  },
  "language_info": {
   "codemirror_mode": {
    "name": "ipython",
    "version": 3
   },
   "file_extension": ".py",
   "mimetype": "text/x-python",
   "name": "python",
   "nbconvert_exporter": "python",
   "pygments_lexer": "ipython3",
   "version": "3.5.4"
  }
 },
 "nbformat": 4,
 "nbformat_minor": 2
}
