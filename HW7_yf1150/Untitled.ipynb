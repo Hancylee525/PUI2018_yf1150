{
 "cells": [
  {
   "cell_type": "code",
   "execution_count": 19,
   "metadata": {},
   "outputs": [],
   "source": [
    "import urllib.request\n",
    "from geopandas import GeoDataFrame\n",
    "import requests\n",
    "import json\n",
    "import numpy as np\n",
    "import io\n",
    "import pandas as pd\n",
    "import choroplethNYC as cp\n",
    "from fiona.crs import from_epsg\n",
    "import shapely\n",
    "from matplotlib import pyplot as plt\n",
    "%matplotlib inline"
   ]
  },
  {
   "cell_type": "code",
   "execution_count": 4,
   "metadata": {},
   "outputs": [],
   "source": [
    "import pandas as pd\n",
    "import os"
   ]
  },
  {
   "cell_type": "code",
   "execution_count": 6,
   "metadata": {
    "scrolled": true
   },
   "outputs": [
    {
     "name": "stdout",
     "output_type": "stream",
     "text": [
      "PUIdata /nfshome/yf1150/PUIdata\n"
     ]
    }
   ],
   "source": [
    "os.environ[\"PUIDATA\"] = \"%s/PUIdata\"%os.getenv(\"HOME\")\n",
    "print(\"PUIdata\", os.getenv(\"PUIDATA\"))"
   ]
  },
  {
   "cell_type": "code",
   "execution_count": 20,
   "metadata": {},
   "outputs": [],
   "source": [
    "pumashp = GeoDataFrame.from_file(\"%s/geo_export_b8d847b1-2542-460a-92c9-4dec773647ee.shp\"%os.getenv(\"PUIDATA\"))"
   ]
  },
  {
   "cell_type": "code",
   "execution_count": 21,
   "metadata": {},
   "outputs": [
    {
     "data": {
      "text/plain": [
       "{'init': 'epsg:4326'}"
      ]
     },
     "execution_count": 21,
     "metadata": {},
     "output_type": "execute_result"
    }
   ],
   "source": [
    "pumashp.crs"
   ]
  },
  {
   "cell_type": "code",
   "execution_count": 23,
   "metadata": {},
   "outputs": [],
   "source": [
    "url = \"https://api.census.gov/data/2016/acs/acs1/variables.json\"\n",
    "resp = requests.request('GET', url)\n",
    "aff1y = json.loads(resp.text)"
   ]
  },
  {
   "cell_type": "code",
   "execution_count": 24,
   "metadata": {},
   "outputs": [],
   "source": [
    "affkeys = np.array(list(aff1y['variables'].keys()))"
   ]
  },
  {
   "cell_type": "code",
   "execution_count": 25,
   "metadata": {},
   "outputs": [
    {
     "data": {
      "text/plain": [
       "[('B28002_007E',\n",
       "  'Estimate!!Total!!With an Internet subscription!!Broadband such as cable, fiber optic or DSL'),\n",
       " ('B28002_004E',\n",
       "  'Estimate!!Total!!With an Internet subscription!!Broadband of any type'),\n",
       " ('B28002_008E',\n",
       "  'Estimate!!Total!!With an Internet subscription!!Broadband such as cable, fiber optic or DSL!!Broadband such as cable, fiber optic or DSL with no other type of Internet subscription')]"
      ]
     },
     "execution_count": 25,
     "metadata": {},
     "output_type": "execute_result"
    }
   ],
   "source": [
    "[(k, aff1y['variables'][k]['label'])  for k in affkeys if k.startswith (\"B28002\") and \n",
    " 'Broadband' in aff1y['variables'][k]['label']]"
   ]
  },
  {
   "cell_type": "code",
   "execution_count": 26,
   "metadata": {},
   "outputs": [
    {
     "data": {
      "text/plain": [
       "{'attributes': 'B28002_001M,B28002_001EA',\n",
       " 'concept': 'PRESENCE AND TYPES OF INTERNET SUBSCRIPTIONS IN HOUSEHOLD',\n",
       " 'group': 'B28002',\n",
       " 'label': 'Estimate!!Total',\n",
       " 'limit': 0,\n",
       " 'predicateType': 'int'}"
      ]
     },
     "execution_count": 26,
     "metadata": {},
     "output_type": "execute_result"
    }
   ],
   "source": [
    "keyNhouseholds = 'B28002_001E'\n",
    "aff1y['variables'][keyNhouseholds]"
   ]
  },
  {
   "cell_type": "code",
   "execution_count": 27,
   "metadata": {},
   "outputs": [
    {
     "data": {
      "text/plain": [
       "{'attributes': 'B28002_004M,B28002_004EA',\n",
       " 'concept': 'PRESENCE AND TYPES OF INTERNET SUBSCRIPTIONS IN HOUSEHOLD',\n",
       " 'group': 'B28002',\n",
       " 'label': 'Estimate!!Total!!With an Internet subscription!!Broadband of any type',\n",
       " 'limit': 0,\n",
       " 'predicateType': 'int'}"
      ]
     },
     "execution_count": 27,
     "metadata": {},
     "output_type": "execute_result"
    }
   ],
   "source": [
    "keyNBB = 'B28002_004E'\n",
    "aff1y['variables'][keyNBB]"
   ]
  },
  {
   "cell_type": "code",
   "execution_count": 28,
   "metadata": {},
   "outputs": [],
   "source": [
    "myAPI = \"43eee9769ca5327d47f53023ec549d59a850a874\""
   ]
  },
  {
   "cell_type": "code",
   "execution_count": 29,
   "metadata": {},
   "outputs": [
    {
     "data": {
      "text/html": [
       "<div>\n",
       "<table border=\"1\" class=\"dataframe\">\n",
       "  <thead>\n",
       "    <tr style=\"text-align: right;\">\n",
       "      <th></th>\n",
       "      <th>B28002_004E</th>\n",
       "      <th>NAME</th>\n",
       "      <th>state</th>\n",
       "      <th>public use microdata area</th>\n",
       "      <th>Unnamed: 4</th>\n",
       "    </tr>\n",
       "  </thead>\n",
       "  <tbody>\n",
       "    <tr>\n",
       "      <th>0</th>\n",
       "      <td>32607</td>\n",
       "      <td>St. Lawrence County PUMA, New York</td>\n",
       "      <td>36</td>\n",
       "      <td>100</td>\n",
       "      <td>NaN</td>\n",
       "    </tr>\n",
       "    <tr>\n",
       "      <th>1</th>\n",
       "      <td>50811</td>\n",
       "      <td>Clinton, Franklin, Essex &amp; Hamilton Counties P...</td>\n",
       "      <td>36</td>\n",
       "      <td>200</td>\n",
       "      <td>NaN</td>\n",
       "    </tr>\n",
       "    <tr>\n",
       "      <th>2</th>\n",
       "      <td>41210</td>\n",
       "      <td>Warren &amp; Washington Counties PUMA, New York</td>\n",
       "      <td>36</td>\n",
       "      <td>300</td>\n",
       "      <td>NaN</td>\n",
       "    </tr>\n",
       "    <tr>\n",
       "      <th>3</th>\n",
       "      <td>36075</td>\n",
       "      <td>Herkimer (North &amp; Central) &amp; Oneida (Outer) Co...</td>\n",
       "      <td>36</td>\n",
       "      <td>401</td>\n",
       "      <td>NaN</td>\n",
       "    </tr>\n",
       "    <tr>\n",
       "      <th>4</th>\n",
       "      <td>47786</td>\n",
       "      <td>Oneida County (Central)--Greater Utica &amp; Rome ...</td>\n",
       "      <td>36</td>\n",
       "      <td>402</td>\n",
       "      <td>NaN</td>\n",
       "    </tr>\n",
       "  </tbody>\n",
       "</table>\n",
       "</div>"
      ],
      "text/plain": [
       "   B28002_004E                                               NAME  state  \\\n",
       "0        32607                 St. Lawrence County PUMA, New York     36   \n",
       "1        50811  Clinton, Franklin, Essex & Hamilton Counties P...     36   \n",
       "2        41210        Warren & Washington Counties PUMA, New York     36   \n",
       "3        36075  Herkimer (North & Central) & Oneida (Outer) Co...     36   \n",
       "4        47786  Oneida County (Central)--Greater Utica & Rome ...     36   \n",
       "\n",
       "   public use microdata area  Unnamed: 4  \n",
       "0                        100         NaN  \n",
       "1                        200         NaN  \n",
       "2                        300         NaN  \n",
       "3                        401         NaN  \n",
       "4                        402         NaN  "
      ]
     },
     "execution_count": 29,
     "metadata": {},
     "output_type": "execute_result"
    }
   ],
   "source": [
    "url = \"https://api.census.gov/data/2016/acs/acs1?get=\" + keyNBB +\\\n",
    "\",NAME&for=public%20use%20microdata%20area:*&in=state:36&key=\" + myAPI\n",
    "resp = requests.request('GET', url).content\n",
    "pumaBB = pd.read_csv(io.StringIO(resp.decode('utf-8').replace('[','').replace(']','')))\n",
    "\n",
    "pumaBB.head()"
   ]
  },
  {
   "cell_type": "code",
   "execution_count": 30,
   "metadata": {},
   "outputs": [
    {
     "data": {
      "text/html": [
       "<div>\n",
       "<table border=\"1\" class=\"dataframe\">\n",
       "  <thead>\n",
       "    <tr style=\"text-align: right;\">\n",
       "      <th></th>\n",
       "      <th>B28002_001E</th>\n",
       "      <th>NAME</th>\n",
       "      <th>state</th>\n",
       "      <th>public use microdata area</th>\n",
       "      <th>Unnamed: 4</th>\n",
       "    </tr>\n",
       "  </thead>\n",
       "  <tbody>\n",
       "    <tr>\n",
       "      <th>0</th>\n",
       "      <td>40479</td>\n",
       "      <td>St. Lawrence County PUMA, New York</td>\n",
       "      <td>36</td>\n",
       "      <td>100</td>\n",
       "      <td>NaN</td>\n",
       "    </tr>\n",
       "    <tr>\n",
       "      <th>1</th>\n",
       "      <td>67092</td>\n",
       "      <td>Clinton, Franklin, Essex &amp; Hamilton Counties P...</td>\n",
       "      <td>36</td>\n",
       "      <td>200</td>\n",
       "      <td>NaN</td>\n",
       "    </tr>\n",
       "    <tr>\n",
       "      <th>2</th>\n",
       "      <td>51614</td>\n",
       "      <td>Warren &amp; Washington Counties PUMA, New York</td>\n",
       "      <td>36</td>\n",
       "      <td>300</td>\n",
       "      <td>NaN</td>\n",
       "    </tr>\n",
       "    <tr>\n",
       "      <th>3</th>\n",
       "      <td>44300</td>\n",
       "      <td>Herkimer (North &amp; Central) &amp; Oneida (Outer) Co...</td>\n",
       "      <td>36</td>\n",
       "      <td>401</td>\n",
       "      <td>NaN</td>\n",
       "    </tr>\n",
       "    <tr>\n",
       "      <th>4</th>\n",
       "      <td>61146</td>\n",
       "      <td>Oneida County (Central)--Greater Utica &amp; Rome ...</td>\n",
       "      <td>36</td>\n",
       "      <td>402</td>\n",
       "      <td>NaN</td>\n",
       "    </tr>\n",
       "  </tbody>\n",
       "</table>\n",
       "</div>"
      ],
      "text/plain": [
       "   B28002_001E                                               NAME  state  \\\n",
       "0        40479                 St. Lawrence County PUMA, New York     36   \n",
       "1        67092  Clinton, Franklin, Essex & Hamilton Counties P...     36   \n",
       "2        51614        Warren & Washington Counties PUMA, New York     36   \n",
       "3        44300  Herkimer (North & Central) & Oneida (Outer) Co...     36   \n",
       "4        61146  Oneida County (Central)--Greater Utica & Rome ...     36   \n",
       "\n",
       "   public use microdata area  Unnamed: 4  \n",
       "0                        100         NaN  \n",
       "1                        200         NaN  \n",
       "2                        300         NaN  \n",
       "3                        401         NaN  \n",
       "4                        402         NaN  "
      ]
     },
     "execution_count": 30,
     "metadata": {},
     "output_type": "execute_result"
    }
   ],
   "source": [
    "url = \"https://api.census.gov/data/2016/acs/acs1?get=\" + keyNhouseholds +\\\n",
    "\",NAME&for=public%20use%20microdata%20area:*&in=state:36&key=\" + myAPI\n",
    "resp = requests.request('GET', url).content\n",
    "pumaPP = pd.read_csv(io.StringIO(resp.decode('utf-8').replace('[','').replace(']','')))\n",
    "pumaPP.head()"
   ]
  },
  {
   "cell_type": "code",
   "execution_count": 31,
   "metadata": {},
   "outputs": [],
   "source": [
    "pumaMerged = pumaBB.merge(pumaPP, on='NAME')"
   ]
  },
  {
   "cell_type": "code",
   "execution_count": 32,
   "metadata": {},
   "outputs": [
    {
     "data": {
      "text/html": [
       "<div>\n",
       "<table border=\"1\" class=\"dataframe\">\n",
       "  <thead>\n",
       "    <tr style=\"text-align: right;\">\n",
       "      <th></th>\n",
       "      <th>B28002_004E</th>\n",
       "      <th>NAME</th>\n",
       "      <th>state</th>\n",
       "      <th>public use microdata area</th>\n",
       "      <th>B28002_001E</th>\n",
       "    </tr>\n",
       "  </thead>\n",
       "  <tbody>\n",
       "    <tr>\n",
       "      <th>0</th>\n",
       "      <td>32607</td>\n",
       "      <td>St. Lawrence County PUMA, New York</td>\n",
       "      <td>36</td>\n",
       "      <td>100</td>\n",
       "      <td>40479</td>\n",
       "    </tr>\n",
       "  </tbody>\n",
       "</table>\n",
       "</div>"
      ],
      "text/plain": [
       "   B28002_004E                                NAME  state  \\\n",
       "0        32607  St. Lawrence County PUMA, New York     36   \n",
       "\n",
       "   public use microdata area  B28002_001E  \n",
       "0                        100        40479  "
      ]
     },
     "execution_count": 32,
     "metadata": {},
     "output_type": "execute_result"
    }
   ],
   "source": [
    "pumaMerged.drop(['Unnamed: 4_x', 'state_y', 'public use microdata area_y', 'Unnamed: 4_y'],axis=1, inplace=True)\n",
    "pumaMerged.head(1)\n",
    "pumaMerged.columns = ['B28002_004E', 'NAME', 'state', 'public use microdata area', 'B28002_001E']\n",
    "pumaMerged.head(1)"
   ]
  },
  {
   "cell_type": "code",
   "execution_count": 33,
   "metadata": {},
   "outputs": [
    {
     "data": {
      "text/html": [
       "<div>\n",
       "<table border=\"1\" class=\"dataframe\">\n",
       "  <thead>\n",
       "    <tr style=\"text-align: right;\">\n",
       "      <th></th>\n",
       "      <th>B28002_004E</th>\n",
       "      <th>NAME</th>\n",
       "      <th>state</th>\n",
       "      <th>public use microdata area</th>\n",
       "      <th>B28002_001E</th>\n",
       "      <th>percBB</th>\n",
       "    </tr>\n",
       "  </thead>\n",
       "  <tbody>\n",
       "    <tr>\n",
       "      <th>0</th>\n",
       "      <td>32607</td>\n",
       "      <td>St. Lawrence County PUMA, New York</td>\n",
       "      <td>36</td>\n",
       "      <td>100</td>\n",
       "      <td>40479</td>\n",
       "      <td>80.552879</td>\n",
       "    </tr>\n",
       "    <tr>\n",
       "      <th>1</th>\n",
       "      <td>50811</td>\n",
       "      <td>Clinton, Franklin, Essex &amp; Hamilton Counties P...</td>\n",
       "      <td>36</td>\n",
       "      <td>200</td>\n",
       "      <td>67092</td>\n",
       "      <td>75.733321</td>\n",
       "    </tr>\n",
       "    <tr>\n",
       "      <th>2</th>\n",
       "      <td>41210</td>\n",
       "      <td>Warren &amp; Washington Counties PUMA, New York</td>\n",
       "      <td>36</td>\n",
       "      <td>300</td>\n",
       "      <td>51614</td>\n",
       "      <td>79.842678</td>\n",
       "    </tr>\n",
       "    <tr>\n",
       "      <th>3</th>\n",
       "      <td>36075</td>\n",
       "      <td>Herkimer (North &amp; Central) &amp; Oneida (Outer) Co...</td>\n",
       "      <td>36</td>\n",
       "      <td>401</td>\n",
       "      <td>44300</td>\n",
       "      <td>81.433409</td>\n",
       "    </tr>\n",
       "    <tr>\n",
       "      <th>4</th>\n",
       "      <td>47786</td>\n",
       "      <td>Oneida County (Central)--Greater Utica &amp; Rome ...</td>\n",
       "      <td>36</td>\n",
       "      <td>402</td>\n",
       "      <td>61146</td>\n",
       "      <td>78.150656</td>\n",
       "    </tr>\n",
       "  </tbody>\n",
       "</table>\n",
       "</div>"
      ],
      "text/plain": [
       "   B28002_004E                                               NAME  state  \\\n",
       "0        32607                 St. Lawrence County PUMA, New York     36   \n",
       "1        50811  Clinton, Franklin, Essex & Hamilton Counties P...     36   \n",
       "2        41210        Warren & Washington Counties PUMA, New York     36   \n",
       "3        36075  Herkimer (North & Central) & Oneida (Outer) Co...     36   \n",
       "4        47786  Oneida County (Central)--Greater Utica & Rome ...     36   \n",
       "\n",
       "   public use microdata area  B28002_001E     percBB  \n",
       "0                        100        40479  80.552879  \n",
       "1                        200        67092  75.733321  \n",
       "2                        300        51614  79.842678  \n",
       "3                        401        44300  81.433409  \n",
       "4                        402        61146  78.150656  "
      ]
     },
     "execution_count": 33,
     "metadata": {},
     "output_type": "execute_result"
    }
   ],
   "source": [
    "pumaMerged['percBB'] = pumaMerged['B28002_004E'] / pumaMerged['B28002_001E'] * 100\n",
    "pumaMerged.head()"
   ]
  },
  {
   "cell_type": "code",
   "execution_count": null,
   "metadata": {},
   "outputs": [],
   "source": []
  },
  {
   "cell_type": "code",
   "execution_count": null,
   "metadata": {},
   "outputs": [],
   "source": []
  },
  {
   "cell_type": "code",
   "execution_count": null,
   "metadata": {},
   "outputs": [],
   "source": []
  },
  {
   "cell_type": "code",
   "execution_count": null,
   "metadata": {},
   "outputs": [],
   "source": []
  },
  {
   "cell_type": "code",
   "execution_count": null,
   "metadata": {},
   "outputs": [],
   "source": []
  },
  {
   "cell_type": "code",
   "execution_count": null,
   "metadata": {},
   "outputs": [],
   "source": []
  },
  {
   "cell_type": "code",
   "execution_count": null,
   "metadata": {},
   "outputs": [],
   "source": []
  },
  {
   "cell_type": "code",
   "execution_count": null,
   "metadata": {},
   "outputs": [],
   "source": []
  },
  {
   "cell_type": "code",
   "execution_count": null,
   "metadata": {},
   "outputs": [],
   "source": []
  },
  {
   "cell_type": "code",
   "execution_count": null,
   "metadata": {},
   "outputs": [],
   "source": []
  },
  {
   "cell_type": "code",
   "execution_count": 17,
   "metadata": {},
   "outputs": [
    {
     "data": {
      "text/html": [
       "<div>\n",
       "<table border=\"1\" class=\"dataframe\">\n",
       "  <thead>\n",
       "    <tr style=\"text-align: right;\">\n",
       "      <th></th>\n",
       "      <th>GCT_STUB.target-geo-id2</th>\n",
       "      <th>HC01</th>\n",
       "      <th>HC02</th>\n",
       "    </tr>\n",
       "  </thead>\n",
       "  <tbody>\n",
       "    <tr>\n",
       "      <th>0</th>\n",
       "      <td>Target Geo Id2</td>\n",
       "      <td>Percent</td>\n",
       "      <td>Margin of Error</td>\n",
       "    </tr>\n",
       "    <tr>\n",
       "      <th>1</th>\n",
       "      <td>01</td>\n",
       "      <td>74.7</td>\n",
       "      <td>0.5</td>\n",
       "    </tr>\n",
       "    <tr>\n",
       "      <th>2</th>\n",
       "      <td>0100100</td>\n",
       "      <td>70.9</td>\n",
       "      <td>2.5</td>\n",
       "    </tr>\n",
       "    <tr>\n",
       "      <th>3</th>\n",
       "      <td>0100200</td>\n",
       "      <td>80.5</td>\n",
       "      <td>2.7</td>\n",
       "    </tr>\n",
       "    <tr>\n",
       "      <th>4</th>\n",
       "      <td>0100301</td>\n",
       "      <td>87.0</td>\n",
       "      <td>2.8</td>\n",
       "    </tr>\n",
       "  </tbody>\n",
       "</table>\n",
       "</div>"
      ],
      "text/plain": [
       "  GCT_STUB.target-geo-id2     HC01             HC02\n",
       "0          Target Geo Id2  Percent  Margin of Error\n",
       "1                      01     74.7              0.5\n",
       "2                 0100100     70.9              2.5\n",
       "3                 0100200     80.5              2.7\n",
       "4                 0100301     87.0              2.8"
      ]
     },
     "execution_count": 17,
     "metadata": {},
     "output_type": "execute_result"
    }
   ],
   "source": [
    "bbpc = pd.read_csv(os.getenv(\"PUIDATA\") + \"/ACS_16_1YR_GCT2801.ST50_with_ann.csv\",\n",
    "            usecols=[\"GCT_STUB.target-geo-id2\",\"HC01\",\"HC02\"])\n",
    "bbpc.head()"
   ]
  },
  {
   "cell_type": "code",
   "execution_count": 18,
   "metadata": {},
   "outputs": [
    {
     "data": {
      "text/html": [
       "<div>\n",
       "<table border=\"1\" class=\"dataframe\">\n",
       "  <thead>\n",
       "    <tr style=\"text-align: right;\">\n",
       "      <th></th>\n",
       "      <th>index</th>\n",
       "      <th>GCT_STUB.target-geo-id2</th>\n",
       "      <th>HC01</th>\n",
       "      <th>HC02</th>\n",
       "      <th>gid</th>\n",
       "    </tr>\n",
       "  </thead>\n",
       "  <tbody>\n",
       "    <tr>\n",
       "      <th>0</th>\n",
       "      <td>2</td>\n",
       "      <td>100100</td>\n",
       "      <td>70.9</td>\n",
       "      <td>2.5</td>\n",
       "      <td>-3499900</td>\n",
       "    </tr>\n",
       "    <tr>\n",
       "      <th>1</th>\n",
       "      <td>3</td>\n",
       "      <td>100200</td>\n",
       "      <td>80.5</td>\n",
       "      <td>2.7</td>\n",
       "      <td>-3499800</td>\n",
       "    </tr>\n",
       "    <tr>\n",
       "      <th>2</th>\n",
       "      <td>4</td>\n",
       "      <td>100301</td>\n",
       "      <td>87.0</td>\n",
       "      <td>2.8</td>\n",
       "      <td>-3499699</td>\n",
       "    </tr>\n",
       "    <tr>\n",
       "      <th>3</th>\n",
       "      <td>5</td>\n",
       "      <td>100302</td>\n",
       "      <td>81.9</td>\n",
       "      <td>2.9</td>\n",
       "      <td>-3499698</td>\n",
       "    </tr>\n",
       "    <tr>\n",
       "      <th>4</th>\n",
       "      <td>6</td>\n",
       "      <td>100400</td>\n",
       "      <td>69.2</td>\n",
       "      <td>3.6</td>\n",
       "      <td>-3499600</td>\n",
       "    </tr>\n",
       "  </tbody>\n",
       "</table>\n",
       "</div>"
      ],
      "text/plain": [
       "   index  GCT_STUB.target-geo-id2  HC01 HC02      gid\n",
       "0      2                   100100  70.9  2.5 -3499900\n",
       "1      3                   100200  80.5  2.7 -3499800\n",
       "2      4                   100301  87.0  2.8 -3499699\n",
       "3      5                   100302  81.9  2.9 -3499698\n",
       "4      6                   100400  69.2  3.6 -3499600"
      ]
     },
     "execution_count": 18,
     "metadata": {},
     "output_type": "execute_result"
    }
   ],
   "source": [
    "bbpc.drop([0,1], inplace=True)\n",
    "bbpc.reset_index(inplace=True)\n",
    "bbpc['GCT_STUB.target-geo-id2'] = bbpc['GCT_STUB.target-geo-id2'].astype(int)\n",
    "bbpc['gid'] = bbpc['GCT_STUB.target-geo-id2'] - 3600000\n",
    "bbpc.head()"
   ]
  },
  {
   "cell_type": "code",
   "execution_count": null,
   "metadata": {},
   "outputs": [],
   "source": []
  },
  {
   "cell_type": "code",
   "execution_count": null,
   "metadata": {},
   "outputs": [],
   "source": []
  },
  {
   "cell_type": "code",
   "execution_count": null,
   "metadata": {},
   "outputs": [],
   "source": []
  },
  {
   "cell_type": "code",
   "execution_count": null,
   "metadata": {},
   "outputs": [],
   "source": []
  },
  {
   "cell_type": "code",
   "execution_count": null,
   "metadata": {},
   "outputs": [],
   "source": []
  },
  {
   "cell_type": "code",
   "execution_count": null,
   "metadata": {},
   "outputs": [],
   "source": []
  },
  {
   "cell_type": "code",
   "execution_count": null,
   "metadata": {},
   "outputs": [],
   "source": []
  },
  {
   "cell_type": "code",
   "execution_count": 9,
   "metadata": {},
   "outputs": [],
   "source": [
    "# grab rows from 1 \n",
    "bbpc = bbpc.iloc[1:,:]\n",
    "# reset index starting from 0\n",
    "bbpc.reset_index(inplace = True)\n",
    "# take all rows from column 1\n",
    "bbpc = bbpc.iloc[:,1:]"
   ]
  },
  {
   "cell_type": "code",
   "execution_count": 10,
   "metadata": {},
   "outputs": [
    {
     "data": {
      "text/html": [
       "<div>\n",
       "<table border=\"1\" class=\"dataframe\">\n",
       "  <thead>\n",
       "    <tr style=\"text-align: right;\">\n",
       "      <th></th>\n",
       "      <th>GCT_STUB.target-geo-id2</th>\n",
       "      <th>HC01</th>\n",
       "      <th>HC02</th>\n",
       "    </tr>\n",
       "  </thead>\n",
       "  <tbody>\n",
       "    <tr>\n",
       "      <th>0</th>\n",
       "      <td>01</td>\n",
       "      <td>74.7</td>\n",
       "      <td>0.5</td>\n",
       "    </tr>\n",
       "    <tr>\n",
       "      <th>1</th>\n",
       "      <td>0100100</td>\n",
       "      <td>70.9</td>\n",
       "      <td>2.5</td>\n",
       "    </tr>\n",
       "    <tr>\n",
       "      <th>2</th>\n",
       "      <td>0100200</td>\n",
       "      <td>80.5</td>\n",
       "      <td>2.7</td>\n",
       "    </tr>\n",
       "    <tr>\n",
       "      <th>3</th>\n",
       "      <td>0100301</td>\n",
       "      <td>87.0</td>\n",
       "      <td>2.8</td>\n",
       "    </tr>\n",
       "    <tr>\n",
       "      <th>4</th>\n",
       "      <td>0100302</td>\n",
       "      <td>81.9</td>\n",
       "      <td>2.9</td>\n",
       "    </tr>\n",
       "  </tbody>\n",
       "</table>\n",
       "</div>"
      ],
      "text/plain": [
       "  GCT_STUB.target-geo-id2  HC01 HC02\n",
       "0                      01  74.7  0.5\n",
       "1                 0100100  70.9  2.5\n",
       "2                 0100200  80.5  2.7\n",
       "3                 0100301  87.0  2.8\n",
       "4                 0100302  81.9  2.9"
      ]
     },
     "execution_count": 10,
     "metadata": {},
     "output_type": "execute_result"
    }
   ],
   "source": [
    "bbpc.head()"
   ]
  },
  {
   "cell_type": "code",
   "execution_count": 11,
   "metadata": {},
   "outputs": [],
   "source": [
    "# transform all things to float\n",
    "for col in bbpc.columns[1:]:\n",
    "    bbpc[col] = bbpc[col].astype('float')\n",
    "# transform the target into int64\n",
    "bbpc['GCT_STUB.target-geo-id2'] = bbpc['GCT_STUB.target-geo-id2']\\\n",
    ".str[-4:].astype('int64')\n",
    "# rename it to gid and set inplace = true\n",
    "bbpc.rename(columns={'GCT_STUB.target-geo-id2':'gid'}, \\\n",
    "            inplace=True)"
   ]
  },
  {
   "cell_type": "code",
   "execution_count": 13,
   "metadata": {},
   "outputs": [
    {
     "data": {
      "text/html": [
       "<div>\n",
       "<table border=\"1\" class=\"dataframe\">\n",
       "  <thead>\n",
       "    <tr style=\"text-align: right;\">\n",
       "      <th></th>\n",
       "      <th>gid</th>\n",
       "      <th>HC01</th>\n",
       "      <th>HC02</th>\n",
       "    </tr>\n",
       "  </thead>\n",
       "  <tbody>\n",
       "    <tr>\n",
       "      <th>0</th>\n",
       "      <td>1</td>\n",
       "      <td>74.7</td>\n",
       "      <td>0.5</td>\n",
       "    </tr>\n",
       "    <tr>\n",
       "      <th>1</th>\n",
       "      <td>100</td>\n",
       "      <td>70.9</td>\n",
       "      <td>2.5</td>\n",
       "    </tr>\n",
       "    <tr>\n",
       "      <th>2</th>\n",
       "      <td>200</td>\n",
       "      <td>80.5</td>\n",
       "      <td>2.7</td>\n",
       "    </tr>\n",
       "    <tr>\n",
       "      <th>3</th>\n",
       "      <td>301</td>\n",
       "      <td>87.0</td>\n",
       "      <td>2.8</td>\n",
       "    </tr>\n",
       "    <tr>\n",
       "      <th>4</th>\n",
       "      <td>302</td>\n",
       "      <td>81.9</td>\n",
       "      <td>2.9</td>\n",
       "    </tr>\n",
       "    <tr>\n",
       "      <th>5</th>\n",
       "      <td>400</td>\n",
       "      <td>69.2</td>\n",
       "      <td>3.6</td>\n",
       "    </tr>\n",
       "    <tr>\n",
       "      <th>6</th>\n",
       "      <td>500</td>\n",
       "      <td>81.3</td>\n",
       "      <td>2.8</td>\n",
       "    </tr>\n",
       "    <tr>\n",
       "      <th>7</th>\n",
       "      <td>600</td>\n",
       "      <td>68.6</td>\n",
       "      <td>2.6</td>\n",
       "    </tr>\n",
       "    <tr>\n",
       "      <th>8</th>\n",
       "      <td>700</td>\n",
       "      <td>70.3</td>\n",
       "      <td>3.1</td>\n",
       "    </tr>\n",
       "    <tr>\n",
       "      <th>9</th>\n",
       "      <td>800</td>\n",
       "      <td>74.7</td>\n",
       "      <td>3.4</td>\n",
       "    </tr>\n",
       "  </tbody>\n",
       "</table>\n",
       "</div>"
      ],
      "text/plain": [
       "   gid  HC01  HC02\n",
       "0    1  74.7   0.5\n",
       "1  100  70.9   2.5\n",
       "2  200  80.5   2.7\n",
       "3  301  87.0   2.8\n",
       "4  302  81.9   2.9\n",
       "5  400  69.2   3.6\n",
       "6  500  81.3   2.8\n",
       "7  600  68.6   2.6\n",
       "8  700  70.3   3.1\n",
       "9  800  74.7   3.4"
      ]
     },
     "execution_count": 13,
     "metadata": {},
     "output_type": "execute_result"
    }
   ],
   "source": [
    "bbpc.head(10)"
   ]
  },
  {
   "cell_type": "code",
   "execution_count": null,
   "metadata": {},
   "outputs": [],
   "source": []
  },
  {
   "cell_type": "code",
   "execution_count": 34,
   "metadata": {},
   "outputs": [
    {
     "data": {
      "text/html": [
       "<div>\n",
       "<table border=\"1\" class=\"dataframe\">\n",
       "  <thead>\n",
       "    <tr style=\"text-align: right;\">\n",
       "      <th></th>\n",
       "      <th>percBB</th>\n",
       "      <th>diff</th>\n",
       "    </tr>\n",
       "  </thead>\n",
       "  <tbody>\n",
       "    <tr>\n",
       "      <th>count</th>\n",
       "      <td>145.000000</td>\n",
       "      <td>145.000000</td>\n",
       "    </tr>\n",
       "    <tr>\n",
       "      <th>mean</th>\n",
       "      <td>81.845478</td>\n",
       "      <td>0.026217</td>\n",
       "    </tr>\n",
       "    <tr>\n",
       "      <th>std</th>\n",
       "      <td>7.063369</td>\n",
       "      <td>0.014480</td>\n",
       "    </tr>\n",
       "    <tr>\n",
       "      <th>min</th>\n",
       "      <td>54.932945</td>\n",
       "      <td>0.000178</td>\n",
       "    </tr>\n",
       "    <tr>\n",
       "      <th>25%</th>\n",
       "      <td>77.770257</td>\n",
       "      <td>0.012252</td>\n",
       "    </tr>\n",
       "    <tr>\n",
       "      <th>50%</th>\n",
       "      <td>82.826141</td>\n",
       "      <td>0.027230</td>\n",
       "    </tr>\n",
       "    <tr>\n",
       "      <th>75%</th>\n",
       "      <td>87.305077</td>\n",
       "      <td>0.039090</td>\n",
       "    </tr>\n",
       "    <tr>\n",
       "      <th>max</th>\n",
       "      <td>93.404143</td>\n",
       "      <td>0.049872</td>\n",
       "    </tr>\n",
       "  </tbody>\n",
       "</table>\n",
       "</div>"
      ],
      "text/plain": [
       "           percBB        diff\n",
       "count  145.000000  145.000000\n",
       "mean    81.845478    0.026217\n",
       "std      7.063369    0.014480\n",
       "min     54.932945    0.000178\n",
       "25%     77.770257    0.012252\n",
       "50%     82.826141    0.027230\n",
       "75%     87.305077    0.039090\n",
       "max     93.404143    0.049872"
      ]
     },
     "execution_count": 34,
     "metadata": {},
     "output_type": "execute_result"
    }
   ],
   "source": [
    "diff_ = pumaMerged.merge(bbpc, right_on=\"gid\", \n",
    "                     left_on=\"public use microdata area\")[[\"percBB\", \"HC01\"]]\n",
    "\n",
    "diff_[\"diff\"] = np.abs(diff_[\"percBB\"] - diff_[\"HC01\"].astype(float))\n",
    "\n",
    "diff_.describe()"
   ]
  },
  {
   "cell_type": "code",
   "execution_count": null,
   "metadata": {},
   "outputs": [],
   "source": []
  }
 ],
 "metadata": {
  "kernelspec": {
   "display_name": "PUI2016_Python3",
   "language": "python",
   "name": "pui2016_python3"
  },
  "language_info": {
   "codemirror_mode": {
    "name": "ipython",
    "version": 3
   },
   "file_extension": ".py",
   "mimetype": "text/x-python",
   "name": "python",
   "nbconvert_exporter": "python",
   "pygments_lexer": "ipython3",
   "version": "3.5.4"
  }
 },
 "nbformat": 4,
 "nbformat_minor": 2
}
