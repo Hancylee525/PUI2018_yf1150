{
 "cells": [
  {
   "cell_type": "markdown",
   "metadata": {},
   "source": [
    "### Set up environment variable \"PUIDATA\""
   ]
  },
  {
   "cell_type": "code",
   "execution_count": 3,
   "metadata": {},
   "outputs": [],
   "source": [
    "import os\n",
    "puidata = os.getenv(\"PUIDATA\")\n",
    "if puidata is None:\n",
    "    os.environ[\"PUIDATA\"] = \"%s/PUIdata\"%os.getenv(\"HOME\")\n",
    "    puidata = os.getenv(\"PUIDATA\")"
   ]
  },
  {
   "cell_type": "code",
   "execution_count": 4,
   "metadata": {},
   "outputs": [],
   "source": [
    "from __future__ import print_function"
   ]
  },
  {
   "cell_type": "code",
   "execution_count": 5,
   "metadata": {},
   "outputs": [
    {
     "name": "stdout",
     "output_type": "stream",
     "text": [
      "PUIdata /nfshome/yf1150/PUIdata\n"
     ]
    }
   ],
   "source": [
    "print(\"PUIdata\", os.getenv(\"PUIDATA\"))"
   ]
  },
  {
   "cell_type": "markdown",
   "metadata": {},
   "source": [
    "### curl the csv file from NYC Open Data"
   ]
  },
  {
   "cell_type": "code",
   "execution_count": 1,
   "metadata": {
    "scrolled": true
   },
   "outputs": [
    {
     "name": "stdout",
     "output_type": "stream",
     "text": [
      "  % Total    % Received % Xferd  Average Speed   Time    Time     Time  Current\n",
      "                                 Dload  Upload   Total   Spent    Left  Speed\n",
      "100  7269    0  7269    0     0  36749      0 --:--:-- --:--:-- --:--:-- 36898\n"
     ]
    }
   ],
   "source": [
    "!curl https://data.cityofnewyork.us/api/views/qchy-end3/rows.csv?accessType=DOWNLOAD > effydata.csv"
   ]
  },
  {
   "cell_type": "code",
   "execution_count": 2,
   "metadata": {},
   "outputs": [],
   "source": [
    "# move the data to PUIdata folder\n",
    "!mv effydata.csv $PUIDATA"
   ]
  },
  {
   "cell_type": "markdown",
   "metadata": {},
   "source": [
    "### Read the local csv file"
   ]
  },
  {
   "cell_type": "code",
   "execution_count": 6,
   "metadata": {},
   "outputs": [],
   "source": [
    "import pandas as pd\n",
    "dhs = pd.read_csv(\"%s/effydata.csv\"%os.getenv(\"PUIDATA\"))"
   ]
  },
  {
   "cell_type": "markdown",
   "metadata": {},
   "source": [
    "### Display the top 7 rows of the Data Frame"
   ]
  },
  {
   "cell_type": "code",
   "execution_count": 7,
   "metadata": {},
   "outputs": [
    {
     "data": {
      "text/html": [
       "<div>\n",
       "<table border=\"1\" class=\"dataframe\">\n",
       "  <thead>\n",
       "    <tr style=\"text-align: right;\">\n",
       "      <th></th>\n",
       "      <th>Date Created</th>\n",
       "      <th>Borough</th>\n",
       "      <th>Block</th>\n",
       "      <th>Lot</th>\n",
       "      <th>Address</th>\n",
       "      <th>Parcel Name</th>\n",
       "      <th>Agency</th>\n",
       "      <th>Total Area</th>\n",
       "      <th>Community Board</th>\n",
       "      <th>Council District</th>\n",
       "      <th>Coordinates</th>\n",
       "      <th>Potential Urban Ag</th>\n",
       "      <th>Postcode</th>\n",
       "      <th>Latitude</th>\n",
       "      <th>Longitude</th>\n",
       "      <th>BIN</th>\n",
       "      <th>NTA</th>\n",
       "    </tr>\n",
       "  </thead>\n",
       "  <tbody>\n",
       "    <tr>\n",
       "      <th>0</th>\n",
       "      <td>11/02/2017 12:00:00 AM</td>\n",
       "      <td>4</td>\n",
       "      <td>3916</td>\n",
       "      <td>35</td>\n",
       "      <td>5 AVENUE</td>\n",
       "      <td>NaN</td>\n",
       "      <td>DCAS</td>\n",
       "      <td>15000</td>\n",
       "      <td>407</td>\n",
       "      <td>19.0</td>\n",
       "      <td>0/0</td>\n",
       "      <td>Potentially Suitable 3 - Site has specific ins...</td>\n",
       "      <td>NaN</td>\n",
       "      <td>NaN</td>\n",
       "      <td>NaN</td>\n",
       "      <td>NaN</td>\n",
       "      <td>NaN</td>\n",
       "    </tr>\n",
       "    <tr>\n",
       "      <th>1</th>\n",
       "      <td>11/02/2017 12:00:00 AM</td>\n",
       "      <td>4</td>\n",
       "      <td>6391</td>\n",
       "      <td>24</td>\n",
       "      <td>63 ROAD</td>\n",
       "      <td>NaN</td>\n",
       "      <td>DCAS</td>\n",
       "      <td>4700</td>\n",
       "      <td>407</td>\n",
       "      <td>24.0</td>\n",
       "      <td>0/0</td>\n",
       "      <td>Potentially Suitable 3 - Site has specific ins...</td>\n",
       "      <td>NaN</td>\n",
       "      <td>NaN</td>\n",
       "      <td>NaN</td>\n",
       "      <td>NaN</td>\n",
       "      <td>NaN</td>\n",
       "    </tr>\n",
       "    <tr>\n",
       "      <th>2</th>\n",
       "      <td>11/02/2017 12:00:00 AM</td>\n",
       "      <td>4</td>\n",
       "      <td>14246</td>\n",
       "      <td>1189</td>\n",
       "      <td>DAVENPORT COURT</td>\n",
       "      <td>HAMILTON BEACH FIRE DEPT ACCES</td>\n",
       "      <td>DCAS</td>\n",
       "      <td>3200</td>\n",
       "      <td>410</td>\n",
       "      <td>32.0</td>\n",
       "      <td>0/0</td>\n",
       "      <td>Potentially Suitable 3 - Site has specific ins...</td>\n",
       "      <td>NaN</td>\n",
       "      <td>NaN</td>\n",
       "      <td>NaN</td>\n",
       "      <td>NaN</td>\n",
       "      <td>NaN</td>\n",
       "    </tr>\n",
       "    <tr>\n",
       "      <th>3</th>\n",
       "      <td>11/02/2017 12:00:00 AM</td>\n",
       "      <td>4</td>\n",
       "      <td>14254</td>\n",
       "      <td>1640</td>\n",
       "      <td>104 STREET</td>\n",
       "      <td>HAMILTON BEACH</td>\n",
       "      <td>DCAS</td>\n",
       "      <td>1600</td>\n",
       "      <td>410</td>\n",
       "      <td>32.0</td>\n",
       "      <td>0/0</td>\n",
       "      <td>Potentially Suitable 3 - Site has specific ins...</td>\n",
       "      <td>NaN</td>\n",
       "      <td>NaN</td>\n",
       "      <td>NaN</td>\n",
       "      <td>NaN</td>\n",
       "      <td>NaN</td>\n",
       "    </tr>\n",
       "    <tr>\n",
       "      <th>4</th>\n",
       "      <td>11/02/2017 12:00:00 AM</td>\n",
       "      <td>4</td>\n",
       "      <td>15622</td>\n",
       "      <td>78</td>\n",
       "      <td>BEACH 13 STREET</td>\n",
       "      <td>NaN</td>\n",
       "      <td>DCAS</td>\n",
       "      <td>3400</td>\n",
       "      <td>414</td>\n",
       "      <td>31.0</td>\n",
       "      <td>0/0</td>\n",
       "      <td>Potentially Suitable 3 - Site has specific ins...</td>\n",
       "      <td>NaN</td>\n",
       "      <td>NaN</td>\n",
       "      <td>NaN</td>\n",
       "      <td>NaN</td>\n",
       "      <td>NaN</td>\n",
       "    </tr>\n",
       "    <tr>\n",
       "      <th>5</th>\n",
       "      <td>11/02/2017 12:00:00 AM</td>\n",
       "      <td>4</td>\n",
       "      <td>15622</td>\n",
       "      <td>180</td>\n",
       "      <td>NEW HAVEN AVENUE</td>\n",
       "      <td>NaN</td>\n",
       "      <td>DCAS</td>\n",
       "      <td>4057</td>\n",
       "      <td>414</td>\n",
       "      <td>31.0</td>\n",
       "      <td>0/0</td>\n",
       "      <td>Potentially Suitable 3 - Site has specific ins...</td>\n",
       "      <td>NaN</td>\n",
       "      <td>NaN</td>\n",
       "      <td>NaN</td>\n",
       "      <td>NaN</td>\n",
       "      <td>NaN</td>\n",
       "    </tr>\n",
       "    <tr>\n",
       "      <th>6</th>\n",
       "      <td>11/02/2017 12:00:00 AM</td>\n",
       "      <td>5</td>\n",
       "      <td>5687</td>\n",
       "      <td>130</td>\n",
       "      <td>ARTHUR KILL ROAD</td>\n",
       "      <td>NaN</td>\n",
       "      <td>DCAS</td>\n",
       "      <td>35206</td>\n",
       "      <td>503</td>\n",
       "      <td>51.0</td>\n",
       "      <td>0/0</td>\n",
       "      <td>Potentially Suitable 3 - Site has specific ins...</td>\n",
       "      <td>NaN</td>\n",
       "      <td>NaN</td>\n",
       "      <td>NaN</td>\n",
       "      <td>NaN</td>\n",
       "      <td>NaN</td>\n",
       "    </tr>\n",
       "  </tbody>\n",
       "</table>\n",
       "</div>"
      ],
      "text/plain": [
       "             Date Created  Borough  Block   Lot           Address  \\\n",
       "0  11/02/2017 12:00:00 AM        4   3916    35          5 AVENUE   \n",
       "1  11/02/2017 12:00:00 AM        4   6391    24           63 ROAD   \n",
       "2  11/02/2017 12:00:00 AM        4  14246  1189   DAVENPORT COURT   \n",
       "3  11/02/2017 12:00:00 AM        4  14254  1640        104 STREET   \n",
       "4  11/02/2017 12:00:00 AM        4  15622    78   BEACH 13 STREET   \n",
       "5  11/02/2017 12:00:00 AM        4  15622   180  NEW HAVEN AVENUE   \n",
       "6  11/02/2017 12:00:00 AM        5   5687   130  ARTHUR KILL ROAD   \n",
       "\n",
       "                      Parcel Name Agency  Total Area  Community Board  \\\n",
       "0                             NaN   DCAS       15000              407   \n",
       "1                             NaN   DCAS        4700              407   \n",
       "2  HAMILTON BEACH FIRE DEPT ACCES   DCAS        3200              410   \n",
       "3                  HAMILTON BEACH   DCAS        1600              410   \n",
       "4                             NaN   DCAS        3400              414   \n",
       "5                             NaN   DCAS        4057              414   \n",
       "6                             NaN   DCAS       35206              503   \n",
       "\n",
       "   Council District Coordinates  \\\n",
       "0              19.0         0/0   \n",
       "1              24.0         0/0   \n",
       "2              32.0         0/0   \n",
       "3              32.0         0/0   \n",
       "4              31.0         0/0   \n",
       "5              31.0         0/0   \n",
       "6              51.0         0/0   \n",
       "\n",
       "                                  Potential Urban Ag  Postcode  Latitude  \\\n",
       "0  Potentially Suitable 3 - Site has specific ins...       NaN       NaN   \n",
       "1  Potentially Suitable 3 - Site has specific ins...       NaN       NaN   \n",
       "2  Potentially Suitable 3 - Site has specific ins...       NaN       NaN   \n",
       "3  Potentially Suitable 3 - Site has specific ins...       NaN       NaN   \n",
       "4  Potentially Suitable 3 - Site has specific ins...       NaN       NaN   \n",
       "5  Potentially Suitable 3 - Site has specific ins...       NaN       NaN   \n",
       "6  Potentially Suitable 3 - Site has specific ins...       NaN       NaN   \n",
       "\n",
       "   Longitude  BIN  NTA  \n",
       "0        NaN  NaN  NaN  \n",
       "1        NaN  NaN  NaN  \n",
       "2        NaN  NaN  NaN  \n",
       "3        NaN  NaN  NaN  \n",
       "4        NaN  NaN  NaN  \n",
       "5        NaN  NaN  NaN  \n",
       "6        NaN  NaN  NaN  "
      ]
     },
     "execution_count": 7,
     "metadata": {},
     "output_type": "execute_result"
    }
   ],
   "source": [
    "dhs.head(7)"
   ]
  },
  {
   "cell_type": "markdown",
   "metadata": {},
   "source": [
    "### Remove all but 2 numerical values columns"
   ]
  },
  {
   "cell_type": "code",
   "execution_count": 8,
   "metadata": {},
   "outputs": [
    {
     "data": {
      "text/plain": [
       "Index(['Date Created', 'Borough', 'Block', 'Lot', 'Address', 'Parcel Name',\n",
       "       'Agency', 'Total Area', 'Community Board', 'Council District',\n",
       "       'Coordinates', 'Potential Urban Ag', 'Postcode', 'Latitude',\n",
       "       'Longitude', 'BIN', 'NTA'],\n",
       "      dtype='object')"
      ]
     },
     "execution_count": 8,
     "metadata": {},
     "output_type": "execute_result"
    }
   ],
   "source": [
    "dhs.columns"
   ]
  },
  {
   "cell_type": "code",
   "execution_count": 9,
   "metadata": {},
   "outputs": [
    {
     "data": {
      "text/plain": [
       "493"
      ]
     },
     "execution_count": 9,
     "metadata": {},
     "output_type": "execute_result"
    }
   ],
   "source": [
    "dhs.size"
   ]
  },
  {
   "cell_type": "code",
   "execution_count": 10,
   "metadata": {},
   "outputs": [],
   "source": [
    "# select two columns only for plotting\n",
    "dhs_2c = dhs[['Lot','Total Area']]"
   ]
  },
  {
   "cell_type": "code",
   "execution_count": 11,
   "metadata": {},
   "outputs": [
    {
     "data": {
      "text/html": [
       "<div>\n",
       "<table border=\"1\" class=\"dataframe\">\n",
       "  <thead>\n",
       "    <tr style=\"text-align: right;\">\n",
       "      <th></th>\n",
       "      <th>Lot</th>\n",
       "      <th>Total Area</th>\n",
       "    </tr>\n",
       "  </thead>\n",
       "  <tbody>\n",
       "    <tr>\n",
       "      <th>0</th>\n",
       "      <td>35</td>\n",
       "      <td>15000</td>\n",
       "    </tr>\n",
       "    <tr>\n",
       "      <th>1</th>\n",
       "      <td>24</td>\n",
       "      <td>4700</td>\n",
       "    </tr>\n",
       "    <tr>\n",
       "      <th>2</th>\n",
       "      <td>1189</td>\n",
       "      <td>3200</td>\n",
       "    </tr>\n",
       "    <tr>\n",
       "      <th>3</th>\n",
       "      <td>1640</td>\n",
       "      <td>1600</td>\n",
       "    </tr>\n",
       "    <tr>\n",
       "      <th>4</th>\n",
       "      <td>78</td>\n",
       "      <td>3400</td>\n",
       "    </tr>\n",
       "    <tr>\n",
       "      <th>5</th>\n",
       "      <td>180</td>\n",
       "      <td>4057</td>\n",
       "    </tr>\n",
       "    <tr>\n",
       "      <th>6</th>\n",
       "      <td>130</td>\n",
       "      <td>35206</td>\n",
       "    </tr>\n",
       "  </tbody>\n",
       "</table>\n",
       "</div>"
      ],
      "text/plain": [
       "    Lot  Total Area\n",
       "0    35       15000\n",
       "1    24        4700\n",
       "2  1189        3200\n",
       "3  1640        1600\n",
       "4    78        3400\n",
       "5   180        4057\n",
       "6   130       35206"
      ]
     },
     "execution_count": 11,
     "metadata": {},
     "output_type": "execute_result"
    }
   ],
   "source": [
    "# display the first 7 rows of the selected columns\n",
    "dhs_2c.head(7)"
   ]
  },
  {
   "cell_type": "markdown",
   "metadata": {},
   "source": [
    "## Plot the data"
   ]
  },
  {
   "cell_type": "code",
   "execution_count": 12,
   "metadata": {},
   "outputs": [
    {
     "name": "stdout",
     "output_type": "stream",
     "text": [
      "Populating the interactive namespace from numpy and matplotlib\n"
     ]
    }
   ],
   "source": [
    "%pylab inline"
   ]
  },
  {
   "cell_type": "code",
   "execution_count": 13,
   "metadata": {},
   "outputs": [
    {
     "data": {
      "text/plain": [
       "<matplotlib.axes._subplots.AxesSubplot at 0x7fb318900ef0>"
      ]
     },
     "execution_count": 13,
     "metadata": {},
     "output_type": "execute_result"
    },
    {
     "data": {
      "image/png": "[encoded data removed]",
      "text/plain": [
       "<matplotlib.figure.Figure at 0x7fb3189007f0>"
      ]
     },
     "metadata": {},
     "output_type": "display_data"
    }
   ],
   "source": [
    "dhs_2c.plot(x=\"Lot\", y=\"Total Area\", kind=\"scatter\")"
   ]
  },
  {
   "cell_type": "markdown",
   "metadata": {},
   "source": [
    "Figure 1: Total Area against number of Lots in NYC City-owned sites that are available and potentially suitable for urban agriculture, including community gardens and urban farms. This dataset is created and maintained as per Local Law 46 of 2018. The two variable shows a cluster of sites with small number of Lots and less Total Area. One site has huge Total Area and small number of Lots while two sites has small Total Area and big number of Lots. "
   ]
  },
  {
   "cell_type": "markdown",
   "metadata": {},
   "source": [
    "### Use API and download a json file"
   ]
  },
  {
   "cell_type": "code",
   "execution_count": 14,
   "metadata": {},
   "outputs": [],
   "source": [
    "url = \"https://data.cityofnewyork.us/resource/4432-37z3.json\""
   ]
  },
  {
   "cell_type": "code",
   "execution_count": 15,
   "metadata": {},
   "outputs": [],
   "source": [
    "df = pd.read_json(url)"
   ]
  },
  {
   "cell_type": "code",
   "execution_count": 16,
   "metadata": {},
   "outputs": [
    {
     "data": {
      "text/html": [
       "<div>\n",
       "<table border=\"1\" class=\"dataframe\">\n",
       "  <thead>\n",
       "    <tr style=\"text-align: right;\">\n",
       "      <th></th>\n",
       "      <th>address</th>\n",
       "      <th>agency</th>\n",
       "      <th>bin</th>\n",
       "      <th>block</th>\n",
       "      <th>borough</th>\n",
       "      <th>community_board</th>\n",
       "      <th>coordinates</th>\n",
       "      <th>council_district</th>\n",
       "      <th>date_created</th>\n",
       "      <th>latitude</th>\n",
       "      <th>longitude</th>\n",
       "      <th>lot</th>\n",
       "      <th>nta</th>\n",
       "      <th>parcel_name</th>\n",
       "      <th>postcode</th>\n",
       "      <th>potential_urban_ag</th>\n",
       "      <th>total_area</th>\n",
       "    </tr>\n",
       "  </thead>\n",
       "  <tbody>\n",
       "    <tr>\n",
       "      <th>0</th>\n",
       "      <td>5 AVENUE</td>\n",
       "      <td>DCAS</td>\n",
       "      <td>NaN</td>\n",
       "      <td>3916</td>\n",
       "      <td>4</td>\n",
       "      <td>407</td>\n",
       "      <td>0/0</td>\n",
       "      <td>19.0</td>\n",
       "      <td>2017-11-02T00:00:00.000</td>\n",
       "      <td>NaN</td>\n",
       "      <td>NaN</td>\n",
       "      <td>35</td>\n",
       "      <td>NaN</td>\n",
       "      <td>NaN</td>\n",
       "      <td>NaN</td>\n",
       "      <td>Potentially Suitable 3 - Site has specific ins...</td>\n",
       "      <td>15000</td>\n",
       "    </tr>\n",
       "    <tr>\n",
       "      <th>1</th>\n",
       "      <td>63 ROAD</td>\n",
       "      <td>DCAS</td>\n",
       "      <td>NaN</td>\n",
       "      <td>6391</td>\n",
       "      <td>4</td>\n",
       "      <td>407</td>\n",
       "      <td>0/0</td>\n",
       "      <td>24.0</td>\n",
       "      <td>2017-11-02T00:00:00.000</td>\n",
       "      <td>NaN</td>\n",
       "      <td>NaN</td>\n",
       "      <td>24</td>\n",
       "      <td>NaN</td>\n",
       "      <td>NaN</td>\n",
       "      <td>NaN</td>\n",
       "      <td>Potentially Suitable 3 - Site has specific ins...</td>\n",
       "      <td>4700</td>\n",
       "    </tr>\n",
       "    <tr>\n",
       "      <th>2</th>\n",
       "      <td>DAVENPORT COURT</td>\n",
       "      <td>DCAS</td>\n",
       "      <td>NaN</td>\n",
       "      <td>14246</td>\n",
       "      <td>4</td>\n",
       "      <td>410</td>\n",
       "      <td>0/0</td>\n",
       "      <td>32.0</td>\n",
       "      <td>2017-11-02T00:00:00.000</td>\n",
       "      <td>NaN</td>\n",
       "      <td>NaN</td>\n",
       "      <td>1189</td>\n",
       "      <td>NaN</td>\n",
       "      <td>HAMILTON BEACH FIRE DEPT ACCES</td>\n",
       "      <td>NaN</td>\n",
       "      <td>Potentially Suitable 3 - Site has specific ins...</td>\n",
       "      <td>3200</td>\n",
       "    </tr>\n",
       "  </tbody>\n",
       "</table>\n",
       "</div>"
      ],
      "text/plain": [
       "           address agency  bin  block  borough  community_board coordinates  \\\n",
       "0         5 AVENUE   DCAS  NaN   3916        4              407         0/0   \n",
       "1          63 ROAD   DCAS  NaN   6391        4              407         0/0   \n",
       "2  DAVENPORT COURT   DCAS  NaN  14246        4              410         0/0   \n",
       "\n",
       "   council_district             date_created  latitude  longitude   lot  nta  \\\n",
       "0              19.0  2017-11-02T00:00:00.000       NaN        NaN    35  NaN   \n",
       "1              24.0  2017-11-02T00:00:00.000       NaN        NaN    24  NaN   \n",
       "2              32.0  2017-11-02T00:00:00.000       NaN        NaN  1189  NaN   \n",
       "\n",
       "                      parcel_name  postcode  \\\n",
       "0                             NaN       NaN   \n",
       "1                             NaN       NaN   \n",
       "2  HAMILTON BEACH FIRE DEPT ACCES       NaN   \n",
       "\n",
       "                                  potential_urban_ag  total_area  \n",
       "0  Potentially Suitable 3 - Site has specific ins...       15000  \n",
       "1  Potentially Suitable 3 - Site has specific ins...        4700  \n",
       "2  Potentially Suitable 3 - Site has specific ins...        3200  "
      ]
     },
     "execution_count": 16,
     "metadata": {},
     "output_type": "execute_result"
    }
   ],
   "source": [
    "df.head(3)"
   ]
  },
  {
   "cell_type": "code",
   "execution_count": 17,
   "metadata": {},
   "outputs": [
    {
     "data": {
      "text/plain": [
       "Index(['address', 'agency', 'bin', 'block', 'borough', 'community_board',\n",
       "       'coordinates', 'council_district', 'date_created', 'latitude',\n",
       "       'longitude', 'lot', 'nta', 'parcel_name', 'postcode',\n",
       "       'potential_urban_ag', 'total_area'],\n",
       "      dtype='object')"
      ]
     },
     "execution_count": 17,
     "metadata": {},
     "output_type": "execute_result"
    }
   ],
   "source": [
    "df.columns"
   ]
  },
  {
   "cell_type": "code",
   "execution_count": 18,
   "metadata": {},
   "outputs": [],
   "source": [
    "df_3c = df[['address','lot','total_area']]"
   ]
  },
  {
   "cell_type": "code",
   "execution_count": 19,
   "metadata": {},
   "outputs": [
    {
     "name": "stdout",
     "output_type": "stream",
     "text": [
      "5 AVENUE\n"
     ]
    },
    {
     "name": "stderr",
     "output_type": "stream",
     "text": [
      "/usr/local/Anaconda3-5.0.0-Linux-x86_64/envs/PUI2016_Python3/lib/python3.5/site-packages/pandas/core/frame.py:2754: SettingWithCopyWarning: \n",
      "A value is trying to be set on a copy of a slice from a DataFrame\n",
      "\n",
      "See the caveats in the documentation: http://pandas.pydata.org/pandas-docs/stable/indexing.html#indexing-view-versus-copy\n",
      "  **kwargs)\n"
     ]
    }
   ],
   "source": [
    "df_3c.rename(columns = {'address':'Address', \n",
    "               'lot':'Lot', \n",
    "               'total_area': 'Total Area'}, inplace=True)\n",
    "\n",
    "print(df_3c.Address[0])"
   ]
  },
  {
   "cell_type": "code",
   "execution_count": 20,
   "metadata": {},
   "outputs": [
    {
     "data": {
      "image/png": "[encoded data removed]",
      "text/plain": [
       "<matplotlib.figure.Figure at 0x7fb3188067b8>"
      ]
     },
     "metadata": {},
     "output_type": "display_data"
    }
   ],
   "source": [
    "ax = df_3c.plot(x='Address', y='Lot', rot=90, xticks=[i for i in range(len(df_3c.Address))])\n",
    "ax.set_ylabel(\"Lot\");"
   ]
  },
  {
   "cell_type": "markdown",
   "metadata": {},
   "source": [
    "Figure 2: number of Lots at their address of NYC City-owned sites that are available and potentially suitable for urban agriculture. "
   ]
  },
  {
   "cell_type": "code",
   "execution_count": 21,
   "metadata": {},
   "outputs": [
    {
     "data": {
      "image/png": "[encoded data removed]",
      "text/plain": [
       "<matplotlib.figure.Figure at 0x7fb313c1d0b8>"
      ]
     },
     "metadata": {},
     "output_type": "display_data"
    }
   ],
   "source": [
    "ax = df_3c.plot(x='Address', y='Total Area', rot=90, xticks=[i for i in range(len(df_3c.Address))])\n",
    "ax.set_ylabel(\"Total Area\");"
   ]
  },
  {
   "cell_type": "markdown",
   "metadata": {},
   "source": [
    "Figure 3: Total Area at their address of NYC City-owned sites that are available and potentially suitable for urban agriculture. "
   ]
  },
  {
   "cell_type": "code",
   "execution_count": null,
   "metadata": {},
   "outputs": [],
   "source": []
  }
 ],
 "metadata": {
  "kernelspec": {
   "display_name": "PUI2016_Python3",
   "language": "python",
   "name": "pui2016_python3"
  },
  "language_info": {
   "codemirror_mode": {
    "name": "ipython",
    "version": 3
   },
   "file_extension": ".py",
   "mimetype": "text/x-python",
   "name": "python",
   "nbconvert_exporter": "python",
   "pygments_lexer": "ipython3",
   "version": "3.5.4"
  }
 },
 "nbformat": 4,
 "nbformat_minor": 2
}
