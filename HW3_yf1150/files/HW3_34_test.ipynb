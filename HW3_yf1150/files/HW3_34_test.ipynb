{
 "cells": [
  {
   "cell_type": "code",
   "execution_count": 51,
   "metadata": {},
   "outputs": [],
   "source": [
    "import sys"
   ]
  },
  {
   "cell_type": "code",
   "execution_count": 52,
   "metadata": {},
   "outputs": [
    {
     "name": "stdout",
     "output_type": "stream",
     "text": [
      "['/usr/local/Anaconda3-5.0.0-Linux-x86_64/envs/PUI2016_Python3/lib/python3.5/site-packages/ipykernel/__main__.py', '-f', '/nfshome/yf1150/.local/share/jupyter/runtime/kernel-adedc3f8-e8dc-498b-a0ba-b3102afbd441.json']\n"
     ]
    }
   ],
   "source": [
    "print(sys.argv)"
   ]
  },
  {
   "cell_type": "code",
   "execution_count": 53,
   "metadata": {},
   "outputs": [],
   "source": [
    "input_key = sys.argv[1]\n",
    "input_line = sys.argv[2]"
   ]
  },
  {
   "cell_type": "code",
   "execution_count": 54,
   "metadata": {},
   "outputs": [],
   "source": [
    "URL = \"http://bustime.mta.info/api/siri/vehicle-monitoring.json?key={}&VehicleMonitoringDetailLevel=calls&LineRef={}\".format(input_key, input_line)"
   ]
  },
  {
   "cell_type": "code",
   "execution_count": null,
   "metadata": {},
   "outputs": [],
   "source": []
  },
  {
   "cell_type": "code",
   "execution_count": null,
   "metadata": {},
   "outputs": [],
   "source": []
  },
  {
   "cell_type": "code",
   "execution_count": null,
   "metadata": {},
   "outputs": [],
   "source": []
  },
  {
   "cell_type": "code",
   "execution_count": null,
   "metadata": {},
   "outputs": [],
   "source": []
  },
  {
   "cell_type": "code",
   "execution_count": 55,
   "metadata": {},
   "outputs": [],
   "source": [
    "api_key = 'not gonna tell you'"
   ]
  },
  {
   "cell_type": "code",
   "execution_count": 2,
   "metadata": {},
   "outputs": [],
   "source": [
    "bus_line = 'B25'"
   ]
  },
  {
   "cell_type": "code",
   "execution_count": 3,
   "metadata": {},
   "outputs": [],
   "source": [
    "url = 'http://bustime.mta.info/api/siri/vehicle-monitoring.json?key=' +api_key+ '&VehicleMonitoringDetailLevel=calls&LineRef=' + bus_line"
   ]
  },
  {
   "cell_type": "code",
   "execution_count": 4,
   "metadata": {},
   "outputs": [
    {
     "data": {
      "text/plain": [
       "'http://bustime.mta.info/api/siri/vehicle-monitoring.json?key=55394b70-ad73-40a9-b125-c2e2efc255c7&VehicleMonitoringDetailLevel=calls&LineRef=B25'"
      ]
     },
     "execution_count": 4,
     "metadata": {},
     "output_type": "execute_result"
    }
   ],
   "source": [
    "url"
   ]
  },
  {
   "cell_type": "code",
   "execution_count": 5,
   "metadata": {},
   "outputs": [],
   "source": [
    "import urllib.request, json "
   ]
  },
  {
   "cell_type": "code",
   "execution_count": 6,
   "metadata": {},
   "outputs": [
    {
     "name": "stdout",
     "output_type": "stream",
     "text": [
      "{'Siri': {'ServiceDelivery': {'VehicleMonitoringDelivery': [{'ValidUntil': '2018-09-24T00:38:14.469-04:00', 'ResponseTimestamp': '2018-09-24T00:37:14.469-04:00', 'VehicleActivity': [{'MonitoredVehicleJourney': {'ProgressRate': 'noProgress', 'Bearing': 21.16126, 'VehicleLocation': {'Longitude': -73.900398, 'Latitude': 40.676675}, 'OriginRef': 'MTA_308626', 'LineRef': 'MTA NYCT_B25', 'PublishedLineName': 'B25', 'DestinationRef': 'MTA_901211', 'BlockRef': 'MTA NYCT_EN_D8-Sunday_D_EN_83040_Q24-420', 'VehicleRef': 'MTA NYCT_7132', 'JourneyPatternRef': 'MTA_B250068', 'DirectionRef': '0', 'SituationRef': [], 'DestinationName': 'BWAY JCT ALABAMA AV via FULTON', 'Monitored': True, 'OperatorRef': 'MTA NYCT', 'FramedVehicleJourneyRef': {'DataFrameRef': '2018-09-23', 'DatedVehicleJourneyRef': 'MTA NYCT_EN_D8-Sunday-143800_Q24_420'}, 'MonitoredCall': {'StopPointRef': 'MTA_901211', 'StopPointName': 'EAST NEW YORK AV/ALABAMA AV', 'ExpectedDepartureTime': '2018-09-24T00:37:15.469-04:00', 'ExpectedArrivalTime': '2018-09-24T00:37:15.469-04:00', 'VisitNumber': 1, 'Extensions': {'Distances': {'CallDistanceAlongRoute': 19109.11, 'StopsFromCall': 0, 'PresentableDistance': 'at stop', 'DistanceFromCall': 23.03}}}, 'ProgressStatus': 'layover', 'OnwardCalls': {'OnwardCall': [{'StopPointName': 'EAST NEW YORK AV/ALABAMA AV', 'ExpectedArrivalTime': '2018-09-24T00:37:14.469-04:00', 'Extensions': {'Distances': {'CallDistanceAlongRoute': 19109.11, 'StopsFromCall': 0, 'PresentableDistance': 'at stop', 'DistanceFromCall': 23.03}}, 'StopPointRef': 'MTA_901211'}]}, 'OriginAimedDepartureTime': '2018-09-24T00:55:00.000-04:00'}, 'RecordedAtTime': '2018-09-24T00:36:57.000-04:00'}, {'MonitoredVehicleJourney': {'ProgressRate': 'normalProgress', 'Bearing': 168.21536, 'VehicleLocation': {'Longitude': -73.963202, 'Latitude': 40.682695}, 'OriginRef': 'MTA_801177', 'LineRef': 'MTA NYCT_B25', 'PublishedLineName': 'B25', 'DestinationRef': 'MTA_801071', 'BlockRef': 'MTA NYCT_EN_D8-Weekday-SDon_E_EN_840_B25-201', 'VehicleRef': 'MTA NYCT_4815', 'JourneyPatternRef': 'MTA_B250069', 'DirectionRef': '1', 'SituationRef': [], 'Monitored': True, 'OperatorRef': 'MTA NYCT', 'FramedVehicleJourneyRef': {'DataFrameRef': '2018-09-24', 'DatedVehicleJourneyRef': 'MTA NYCT_EN_D8-Weekday-SDon-002000_B25_201'}, 'MonitoredCall': {'StopPointRef': 'MTA_302421', 'StopPointName': 'FULTON ST/WASHINGTON AV', 'ExpectedDepartureTime': '2018-09-24T00:37:51.194-04:00', 'ExpectedArrivalTime': '2018-09-24T00:37:51.194-04:00', 'VisitNumber': 1, 'Extensions': {'Distances': {'CallDistanceAlongRoute': 5593.48, 'StopsFromCall': 0, 'PresentableDistance': '< 1 stop away', 'DistanceFromCall': 183.11}}}, 'OnwardCalls': {'OnwardCall': [{'StopPointName': 'FULTON ST/WASHINGTON AV', 'ExpectedArrivalTime': '2018-09-24T00:37:51.194-04:00', 'Extensions': {'Distances': {'CallDistanceAlongRoute': 5593.48, 'StopsFromCall': 0, 'PresentableDistance': '< 1 stop away', 'DistanceFromCall': 183.11}}, 'StopPointRef': 'MTA_302421'}, {'StopPointName': 'FULTON ST/VANDERBILT AV', 'ExpectedArrivalTime': '2018-09-24T00:39:02.756-04:00', 'Extensions': {'Distances': {'CallDistanceAlongRoute': 5871.47, 'StopsFromCall': 1, 'PresentableDistance': '1 stop away', 'DistanceFromCall': 461.1}}, 'StopPointRef': 'MTA_302423'}, {'StopPointName': 'FULTON ST/ADELPHI ST', 'ExpectedArrivalTime': '2018-09-24T00:39:34.701-04:00', 'Extensions': {'Distances': {'CallDistanceAlongRoute': 6070.88, 'StopsFromCall': 2, 'PresentableDistance': '2 stops away', 'DistanceFromCall': 660.51}}, 'StopPointRef': 'MTA_302424'}, {'StopPointName': 'FULTON ST/GREENE AV', 'ExpectedArrivalTime': '2018-09-24T00:40:29.407-04:00', 'Extensions': {'Distances': {'CallDistanceAlongRoute': 6294.84, 'StopsFromCall': 3, 'PresentableDistance': '0.5 miles away', 'DistanceFromCall': 884.47}}, 'StopPointRef': 'MTA_302426'}, {'StopPointName': 'FULTON ST/S ELLIOTT PL', 'ExpectedArrivalTime': '2018-09-24T00:41:32.620-04:00', 'Extensions': {'Distances': {'CallDistanceAlongRoute': 6538.22, 'StopsFromCall': 4, 'PresentableDistance': '0.7 miles away', 'DistanceFromCall': 1127.85}}, 'StopPointRef': 'MTA_302427'}, {'StopPointName': 'FULTON ST/FT GREENE PL', 'ExpectedArrivalTime': '2018-09-24T00:42:07.406-04:00', 'Extensions': {'Distances': {'CallDistanceAlongRoute': 6694.03, 'StopsFromCall': 5, 'PresentableDistance': '0.8 miles away', 'DistanceFromCall': 1283.65}}, 'StopPointRef': 'MTA_302428'}, {'StopPointName': 'FULTON ST/HUDSON AV', 'ExpectedArrivalTime': '2018-09-24T00:43:32.380-04:00', 'Extensions': {'Distances': {'CallDistanceAlongRoute': 6993.42, 'StopsFromCall': 6, 'PresentableDistance': '1.0 miles away', 'DistanceFromCall': 1583.05}}, 'StopPointRef': 'MTA_302430'}, {'StopPointName': 'FULTON ST/BOND ST', 'ExpectedArrivalTime': '2018-09-24T00:45:05.158-04:00', 'Extensions': {'Distances': {'CallDistanceAlongRoute': 7244.42, 'StopsFromCall': 7, 'PresentableDistance': '1.1 miles away', 'DistanceFromCall': 1834.05}}, 'StopPointRef': 'MTA_302431'}, {'StopPointName': 'FULTON ST/DUFFIELD ST', 'ExpectedArrivalTime': '2018-09-24T00:45:55.937-04:00', 'Extensions': {'Distances': {'CallDistanceAlongRoute': 7448.65, 'StopsFromCall': 8, 'PresentableDistance': '1.3 miles away', 'DistanceFromCall': 2038.28}}, 'StopPointRef': 'MTA_307492'}, {'StopPointName': 'FULTON ST/JAY ST', 'ExpectedArrivalTime': '2018-09-24T00:46:39.297-04:00', 'Extensions': {'Distances': {'CallDistanceAlongRoute': 7656.45, 'StopsFromCall': 9, 'PresentableDistance': '1.4 miles away', 'DistanceFromCall': 2246.08}}, 'StopPointRef': 'MTA_302433'}, {'StopPointName': 'JORALEMON ST/COURT ST', 'ExpectedArrivalTime': '2018-09-24T00:48:09.697-04:00', 'Extensions': {'Distances': {'CallDistanceAlongRoute': 7982.27, 'StopsFromCall': 10, 'PresentableDistance': '1.6 miles away', 'DistanceFromCall': 2571.9}}, 'StopPointRef': 'MTA_302434'}, {'StopPointName': 'CADMAN PLZ W/MONTAGUE ST', 'ExpectedArrivalTime': '2018-09-24T00:48:39.682-04:00', 'Extensions': {'Distances': {'CallDistanceAlongRoute': 8116.31, 'StopsFromCall': 11, 'PresentableDistance': '1.7 miles away', 'DistanceFromCall': 2705.94}}, 'StopPointRef': 'MTA_306533'}, {'StopPointName': 'CADMAN PZ W/JOHNSON ST', 'ExpectedArrivalTime': '2018-09-24T00:49:02.432-04:00', 'Extensions': {'Distances': {'CallDistanceAlongRoute': 8266.13, 'StopsFromCall': 12, 'PresentableDistance': '1.8 miles away', 'DistanceFromCall': 2855.76}}, 'StopPointRef': 'MTA_307988'}, {'StopPointName': 'CADMAN PZ W/TILLARY ST', 'ExpectedArrivalTime': '2018-09-24T00:49:54.514-04:00', 'Extensions': {'Distances': {'CallDistanceAlongRoute': 8461.88, 'StopsFromCall': 13, 'PresentableDistance': '1.9 miles away', 'DistanceFromCall': 3051.51}}, 'StopPointRef': 'MTA_302437'}, {'StopPointName': 'CADMAN PLZ W/CRANBERRY ST', 'ExpectedArrivalTime': '2018-09-24T00:50:30.096-04:00', 'Extensions': {'Distances': {'CallDistanceAlongRoute': 8728.43, 'StopsFromCall': 14, 'PresentableDistance': '2.1 miles away', 'DistanceFromCall': 3318.06}}, 'StopPointRef': 'MTA_307355'}, {'StopPointName': 'OLD FULTON ST/PROSPECT ST', 'ExpectedArrivalTime': '2018-09-24T00:51:21.738-04:00', 'Extensions': {'Distances': {'CallDistanceAlongRoute': 8968.15, 'StopsFromCall': 15, 'PresentableDistance': '2.2 miles away', 'DistanceFromCall': 3557.77}}, 'StopPointRef': 'MTA_302440'}, {'StopPointName': 'FRONT ST/YORK ST', 'ExpectedArrivalTime': '2018-09-24T00:52:41.860-04:00', 'Extensions': {'Distances': {'CallDistanceAlongRoute': 9262.21, 'StopsFromCall': 16, 'PresentableDistance': '2.4 miles away', 'DistanceFromCall': 3851.84}}, 'StopPointRef': 'MTA_801071'}]}, 'DestinationName': 'DNTWN BKLYN FURMAN ST via FULTON'}, 'RecordedAtTime': '2018-09-24T00:37:12.000-04:00'}]}], 'SituationExchangeDelivery': [], 'ResponseTimestamp': '2018-09-24T00:37:14.469-04:00'}}}\n"
     ]
    }
   ],
   "source": [
    "with urllib.request.urlopen(url) as url:\n",
    "    data = json.loads(url.read().decode())\n",
    "    print(data)"
   ]
  },
  {
   "cell_type": "code",
   "execution_count": 23,
   "metadata": {},
   "outputs": [],
   "source": [
    "bus_list = data[\"Siri\"][\"ServiceDelivery\"][\"VehicleMonitoringDelivery\"][0][\"VehicleActivity\"]"
   ]
  },
  {
   "cell_type": "code",
   "execution_count": 24,
   "metadata": {
    "scrolled": true
   },
   "outputs": [
    {
     "data": {
      "text/plain": [
       "list"
      ]
     },
     "execution_count": 24,
     "metadata": {},
     "output_type": "execute_result"
    }
   ],
   "source": [
    "type(bus_list)"
   ]
  },
  {
   "cell_type": "code",
   "execution_count": 32,
   "metadata": {},
   "outputs": [],
   "source": [
    "# bus_locations = '[\"MonitoredVehicleJourney\"][\"VehicleLocation\"]'"
   ]
  },
  {
   "cell_type": "code",
   "execution_count": 36,
   "metadata": {
    "scrolled": true
   },
   "outputs": [
    {
     "name": "stdout",
     "output_type": "stream",
     "text": [
      "{'Longitude': -73.900398, 'Latitude': 40.676675}\n",
      "{'Longitude': -73.963202, 'Latitude': 40.682695}\n"
     ]
    }
   ],
   "source": [
    "for i in bus_list:\n",
    "    print(i[\"MonitoredVehicleJourney\"][\"VehicleLocation\"])"
   ]
  },
  {
   "cell_type": "code",
   "execution_count": 41,
   "metadata": {},
   "outputs": [
    {
     "name": "stdout",
     "output_type": "stream",
     "text": [
      "0\n",
      "1\n"
     ]
    }
   ],
   "source": [
    "for i in bus_list:\n",
    "    print(bus_list.index(i))"
   ]
  },
  {
   "cell_type": "code",
   "execution_count": 47,
   "metadata": {},
   "outputs": [],
   "source": [
    "# latitude = '[\"MonitoredVehicleJourney\"][\"VehicleLocation\"][\"Latitude\"]'"
   ]
  },
  {
   "cell_type": "code",
   "execution_count": 62,
   "metadata": {},
   "outputs": [],
   "source": [
    "location = [(i[\"MonitoredVehicleJourney\"][\"VehicleLocation\"][\"Longitude\"], i[\"MonitoredVehicleJourney\"][\"VehicleLocation\"][\"Latitude\"]) for i in bus_list]"
   ]
  },
  {
   "cell_type": "code",
   "execution_count": 67,
   "metadata": {},
   "outputs": [
    {
     "data": {
      "text/plain": [
       "-73.900398"
      ]
     },
     "execution_count": 67,
     "metadata": {},
     "output_type": "execute_result"
    }
   ],
   "source": [
    "location[0][0]"
   ]
  },
  {
   "cell_type": "code",
   "execution_count": null,
   "metadata": {},
   "outputs": [],
   "source": []
  },
  {
   "cell_type": "code",
   "execution_count": 50,
   "metadata": {
    "scrolled": true
   },
   "outputs": [
    {
     "name": "stdout",
     "output_type": "stream",
     "text": [
      "Bus Line :  B25\n",
      "Number of Active Buses :  2\n",
      "Bus 0 is at latitude 40.676675 and longitude -73.900398\n",
      "Bus 1 is at latitude 40.682695 and longitude -73.963202\n"
     ]
    }
   ],
   "source": [
    "print('Bus Line : ', bus_line)\n",
    "print('Number of Active Buses : ', len(bus_list))\n",
    "for i in bus_list:\n",
    "    print('Bus', bus_list.index(i), 'is at latitude', i[\"MonitoredVehicleJourney\"][\"VehicleLocation\"][\"Latitude\"], 'and longitude', i[\"MonitoredVehicleJourney\"][\"VehicleLocation\"][\"Longitude\"])"
   ]
  },
  {
   "cell_type": "code",
   "execution_count": null,
   "metadata": {},
   "outputs": [],
   "source": []
  },
  {
   "cell_type": "code",
   "execution_count": null,
   "metadata": {},
   "outputs": [],
   "source": []
  },
  {
   "cell_type": "code",
   "execution_count": 58,
   "metadata": {},
   "outputs": [],
   "source": [
    "stop_name = [i[\"MonitoredVehicleJourney\"][\"OnwardCalls\"][\"OnwardCall\"][0][\"StopPointName\"] for i in bus_list]"
   ]
  },
  {
   "cell_type": "code",
   "execution_count": 59,
   "metadata": {},
   "outputs": [
    {
     "data": {
      "text/plain": [
       "['EAST NEW YORK AV/ALABAMA AV', 'FULTON ST/WASHINGTON AV']"
      ]
     },
     "execution_count": 59,
     "metadata": {},
     "output_type": "execute_result"
    }
   ],
   "source": [
    "stop_name"
   ]
  },
  {
   "cell_type": "code",
   "execution_count": 56,
   "metadata": {},
   "outputs": [],
   "source": [
    "stop_status = [i[\"MonitoredVehicleJourney\"][\"OnwardCalls\"][\"OnwardCall\"][0][\"Extensions\"][\"Distances\"][\"PresentableDistance\"] for i in bus_list]"
   ]
  },
  {
   "cell_type": "code",
   "execution_count": 57,
   "metadata": {},
   "outputs": [
    {
     "data": {
      "text/plain": [
       "['at stop', '< 1 stop away']"
      ]
     },
     "execution_count": 57,
     "metadata": {},
     "output_type": "execute_result"
    }
   ],
   "source": [
    "stop_status"
   ]
  },
  {
   "cell_type": "code",
   "execution_count": null,
   "metadata": {},
   "outputs": [],
   "source": []
  }
 ],
 "metadata": {
  "kernelspec": {
   "display_name": "PUI2016_Python3",
   "language": "python",
   "name": "pui2016_python3"
  },
  "language_info": {
   "codemirror_mode": {
    "name": "ipython",
    "version": 3
   },
   "file_extension": ".py",
   "mimetype": "text/x-python",
   "name": "python",
   "nbconvert_exporter": "python",
   "pygments_lexer": "ipython3",
   "version": "3.5.4"
  }
 },
 "nbformat": 4,
 "nbformat_minor": 2
}
